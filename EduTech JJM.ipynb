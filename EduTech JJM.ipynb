{
  "cells": [
    {
      "cell_type": "markdown",
      "metadata": {
        "id": "GsfFVpPYxB7E"
      },
      "source": [
        "# Proyek Akhir: Menyelesaikan Permasalahan Perusahaan Edutech"
      ]
    },
    {
      "cell_type": "markdown",
      "metadata": {
        "id": "9Fh3-25oxB7H"
      },
      "source": [
        "- Nama:ERIKA BUDIARTI\n",
        "- Email:erika.analytic@gmail.com\n",
        "- Id Dicoding:erika_budiarti"
      ]
    },
    {
      "cell_type": "markdown",
      "metadata": {
        "id": "wNLhFHDoxB7I"
      },
      "source": [
        "## Persiapan"
      ]
    },
    {
      "cell_type": "markdown",
      "metadata": {
        "id": "h1eY6xNOxB7I"
      },
      "source": [
        "### Menyiapkan library yang dibutuhkan"
      ]
    },
    {
      "cell_type": "code",
      "execution_count": 1,
      "metadata": {
        "id": "xtJfkgvaxB7I"
      },
      "outputs": [],
      "source": [
        "import pandas as pd\n",
        "import numpy as np\n",
        "import matplotlib.pyplot as plt\n",
        "import seaborn as sns"
      ]
    },
    {
      "cell_type": "code",
      "source": [
        "from sklearn.preprocessing import StandardScaler\n",
        "from sklearn.model_selection import train_test_split\n",
        "from sklearn.preprocessing import LabelEncoder\n",
        "from sklearn.neighbors import KNeighborsClassifier\n",
        "from sklearn.svm import SVC\n",
        "from sklearn.linear_model import LogisticRegression\n",
        "from sklearn.naive_bayes import GaussianNB\n",
        "from sklearn.tree import DecisionTreeClassifier\n",
        "from sklearn.ensemble import RandomForestClassifier\n",
        "from sklearn.ensemble import GradientBoostingClassifier\n",
        "from sklearn.neural_network import MLPClassifier\n",
        "from sklearn.metrics import accuracy_score, confusion_matrix, precision_score, recall_score, roc_curve, roc_auc_score, classification_report, f1_score\n",
        "from sklearn.model_selection import cross_val_score\n",
        "from sklearn.model_selection import GridSearchCV\n",
        "\n",
        "import joblib"
      ],
      "metadata": {
        "id": "7ThVvT4lOtmy"
      },
      "execution_count": 2,
      "outputs": []
    },
    {
      "cell_type": "markdown",
      "metadata": {
        "id": "KIBy7Lr3xB7J"
      },
      "source": [
        "### Menyiapkan data yang akan digunakan"
      ]
    },
    {
      "cell_type": "code",
      "execution_count": 3,
      "metadata": {
        "id": "-oJBcc2bxB7J"
      },
      "outputs": [],
      "source": [
        "employee_df = pd.read_csv(\"/content/employee_data.csv\", encoding='windows-1252')"
      ]
    },
    {
      "cell_type": "markdown",
      "metadata": {
        "id": "paQYpwL_xB7J"
      },
      "source": [
        "## Data Understanding"
      ]
    },
    {
      "cell_type": "code",
      "execution_count": 4,
      "metadata": {
        "colab": {
          "base_uri": "https://localhost:8080/",
          "height": 325
        },
        "id": "21-B6Z6kyku7",
        "outputId": "13d15315-7a1f-4514-b57f-c9642dc17231"
      },
      "outputs": [
        {
          "output_type": "execute_result",
          "data": {
            "text/plain": [
              "   EmployeeId  Age  Attrition     BusinessTravel  DailyRate  \\\n",
              "0           1   38        NaN  Travel_Frequently       1444   \n",
              "1           2   37        1.0      Travel_Rarely       1141   \n",
              "2           3   51        1.0      Travel_Rarely       1323   \n",
              "3           4   42        0.0  Travel_Frequently        555   \n",
              "4           5   40        NaN      Travel_Rarely       1194   \n",
              "\n",
              "               Department  DistanceFromHome  Education EducationField  \\\n",
              "0         Human Resources                 1          4          Other   \n",
              "1  Research & Development                11          2        Medical   \n",
              "2  Research & Development                 4          4  Life Sciences   \n",
              "3                   Sales                26          3      Marketing   \n",
              "4  Research & Development                 2          4        Medical   \n",
              "\n",
              "   EmployeeCount  ...  RelationshipSatisfaction StandardHours  \\\n",
              "0              1  ...                         2            80   \n",
              "1              1  ...                         1            80   \n",
              "2              1  ...                         3            80   \n",
              "3              1  ...                         4            80   \n",
              "4              1  ...                         2            80   \n",
              "\n",
              "   StockOptionLevel  TotalWorkingYears  TrainingTimesLastYear WorkLifeBalance  \\\n",
              "0                 1                  7                      2               3   \n",
              "1                 0                 15                      2               1   \n",
              "2                 3                 18                      2               4   \n",
              "3                 1                 23                      2               4   \n",
              "4                 3                 20                      2               3   \n",
              "\n",
              "   YearsAtCompany YearsInCurrentRole  YearsSinceLastPromotion  \\\n",
              "0               6                  2                        1   \n",
              "1               1                  0                        0   \n",
              "2              10                  0                        2   \n",
              "3              20                  4                        4   \n",
              "4               5                  3                        0   \n",
              "\n",
              "   YearsWithCurrManager  \n",
              "0                     2  \n",
              "1                     0  \n",
              "2                     7  \n",
              "3                     8  \n",
              "4                     2  \n",
              "\n",
              "[5 rows x 35 columns]"
            ],
            "text/html": [
              "\n",
              "  <div id=\"df-8f0002cf-154a-48f9-82b2-10b858dc45a8\" class=\"colab-df-container\">\n",
              "    <div>\n",
              "<style scoped>\n",
              "    .dataframe tbody tr th:only-of-type {\n",
              "        vertical-align: middle;\n",
              "    }\n",
              "\n",
              "    .dataframe tbody tr th {\n",
              "        vertical-align: top;\n",
              "    }\n",
              "\n",
              "    .dataframe thead th {\n",
              "        text-align: right;\n",
              "    }\n",
              "</style>\n",
              "<table border=\"1\" class=\"dataframe\">\n",
              "  <thead>\n",
              "    <tr style=\"text-align: right;\">\n",
              "      <th></th>\n",
              "      <th>EmployeeId</th>\n",
              "      <th>Age</th>\n",
              "      <th>Attrition</th>\n",
              "      <th>BusinessTravel</th>\n",
              "      <th>DailyRate</th>\n",
              "      <th>Department</th>\n",
              "      <th>DistanceFromHome</th>\n",
              "      <th>Education</th>\n",
              "      <th>EducationField</th>\n",
              "      <th>EmployeeCount</th>\n",
              "      <th>...</th>\n",
              "      <th>RelationshipSatisfaction</th>\n",
              "      <th>StandardHours</th>\n",
              "      <th>StockOptionLevel</th>\n",
              "      <th>TotalWorkingYears</th>\n",
              "      <th>TrainingTimesLastYear</th>\n",
              "      <th>WorkLifeBalance</th>\n",
              "      <th>YearsAtCompany</th>\n",
              "      <th>YearsInCurrentRole</th>\n",
              "      <th>YearsSinceLastPromotion</th>\n",
              "      <th>YearsWithCurrManager</th>\n",
              "    </tr>\n",
              "  </thead>\n",
              "  <tbody>\n",
              "    <tr>\n",
              "      <th>0</th>\n",
              "      <td>1</td>\n",
              "      <td>38</td>\n",
              "      <td>NaN</td>\n",
              "      <td>Travel_Frequently</td>\n",
              "      <td>1444</td>\n",
              "      <td>Human Resources</td>\n",
              "      <td>1</td>\n",
              "      <td>4</td>\n",
              "      <td>Other</td>\n",
              "      <td>1</td>\n",
              "      <td>...</td>\n",
              "      <td>2</td>\n",
              "      <td>80</td>\n",
              "      <td>1</td>\n",
              "      <td>7</td>\n",
              "      <td>2</td>\n",
              "      <td>3</td>\n",
              "      <td>6</td>\n",
              "      <td>2</td>\n",
              "      <td>1</td>\n",
              "      <td>2</td>\n",
              "    </tr>\n",
              "    <tr>\n",
              "      <th>1</th>\n",
              "      <td>2</td>\n",
              "      <td>37</td>\n",
              "      <td>1.0</td>\n",
              "      <td>Travel_Rarely</td>\n",
              "      <td>1141</td>\n",
              "      <td>Research &amp; Development</td>\n",
              "      <td>11</td>\n",
              "      <td>2</td>\n",
              "      <td>Medical</td>\n",
              "      <td>1</td>\n",
              "      <td>...</td>\n",
              "      <td>1</td>\n",
              "      <td>80</td>\n",
              "      <td>0</td>\n",
              "      <td>15</td>\n",
              "      <td>2</td>\n",
              "      <td>1</td>\n",
              "      <td>1</td>\n",
              "      <td>0</td>\n",
              "      <td>0</td>\n",
              "      <td>0</td>\n",
              "    </tr>\n",
              "    <tr>\n",
              "      <th>2</th>\n",
              "      <td>3</td>\n",
              "      <td>51</td>\n",
              "      <td>1.0</td>\n",
              "      <td>Travel_Rarely</td>\n",
              "      <td>1323</td>\n",
              "      <td>Research &amp; Development</td>\n",
              "      <td>4</td>\n",
              "      <td>4</td>\n",
              "      <td>Life Sciences</td>\n",
              "      <td>1</td>\n",
              "      <td>...</td>\n",
              "      <td>3</td>\n",
              "      <td>80</td>\n",
              "      <td>3</td>\n",
              "      <td>18</td>\n",
              "      <td>2</td>\n",
              "      <td>4</td>\n",
              "      <td>10</td>\n",
              "      <td>0</td>\n",
              "      <td>2</td>\n",
              "      <td>7</td>\n",
              "    </tr>\n",
              "    <tr>\n",
              "      <th>3</th>\n",
              "      <td>4</td>\n",
              "      <td>42</td>\n",
              "      <td>0.0</td>\n",
              "      <td>Travel_Frequently</td>\n",
              "      <td>555</td>\n",
              "      <td>Sales</td>\n",
              "      <td>26</td>\n",
              "      <td>3</td>\n",
              "      <td>Marketing</td>\n",
              "      <td>1</td>\n",
              "      <td>...</td>\n",
              "      <td>4</td>\n",
              "      <td>80</td>\n",
              "      <td>1</td>\n",
              "      <td>23</td>\n",
              "      <td>2</td>\n",
              "      <td>4</td>\n",
              "      <td>20</td>\n",
              "      <td>4</td>\n",
              "      <td>4</td>\n",
              "      <td>8</td>\n",
              "    </tr>\n",
              "    <tr>\n",
              "      <th>4</th>\n",
              "      <td>5</td>\n",
              "      <td>40</td>\n",
              "      <td>NaN</td>\n",
              "      <td>Travel_Rarely</td>\n",
              "      <td>1194</td>\n",
              "      <td>Research &amp; Development</td>\n",
              "      <td>2</td>\n",
              "      <td>4</td>\n",
              "      <td>Medical</td>\n",
              "      <td>1</td>\n",
              "      <td>...</td>\n",
              "      <td>2</td>\n",
              "      <td>80</td>\n",
              "      <td>3</td>\n",
              "      <td>20</td>\n",
              "      <td>2</td>\n",
              "      <td>3</td>\n",
              "      <td>5</td>\n",
              "      <td>3</td>\n",
              "      <td>0</td>\n",
              "      <td>2</td>\n",
              "    </tr>\n",
              "  </tbody>\n",
              "</table>\n",
              "<p>5 rows × 35 columns</p>\n",
              "</div>\n",
              "    <div class=\"colab-df-buttons\">\n",
              "\n",
              "  <div class=\"colab-df-container\">\n",
              "    <button class=\"colab-df-convert\" onclick=\"convertToInteractive('df-8f0002cf-154a-48f9-82b2-10b858dc45a8')\"\n",
              "            title=\"Convert this dataframe to an interactive table.\"\n",
              "            style=\"display:none;\">\n",
              "\n",
              "  <svg xmlns=\"http://www.w3.org/2000/svg\" height=\"24px\" viewBox=\"0 -960 960 960\">\n",
              "    <path d=\"M120-120v-720h720v720H120Zm60-500h600v-160H180v160Zm220 220h160v-160H400v160Zm0 220h160v-160H400v160ZM180-400h160v-160H180v160Zm440 0h160v-160H620v160ZM180-180h160v-160H180v160Zm440 0h160v-160H620v160Z\"/>\n",
              "  </svg>\n",
              "    </button>\n",
              "\n",
              "  <style>\n",
              "    .colab-df-container {\n",
              "      display:flex;\n",
              "      gap: 12px;\n",
              "    }\n",
              "\n",
              "    .colab-df-convert {\n",
              "      background-color: #E8F0FE;\n",
              "      border: none;\n",
              "      border-radius: 50%;\n",
              "      cursor: pointer;\n",
              "      display: none;\n",
              "      fill: #1967D2;\n",
              "      height: 32px;\n",
              "      padding: 0 0 0 0;\n",
              "      width: 32px;\n",
              "    }\n",
              "\n",
              "    .colab-df-convert:hover {\n",
              "      background-color: #E2EBFA;\n",
              "      box-shadow: 0px 1px 2px rgba(60, 64, 67, 0.3), 0px 1px 3px 1px rgba(60, 64, 67, 0.15);\n",
              "      fill: #174EA6;\n",
              "    }\n",
              "\n",
              "    .colab-df-buttons div {\n",
              "      margin-bottom: 4px;\n",
              "    }\n",
              "\n",
              "    [theme=dark] .colab-df-convert {\n",
              "      background-color: #3B4455;\n",
              "      fill: #D2E3FC;\n",
              "    }\n",
              "\n",
              "    [theme=dark] .colab-df-convert:hover {\n",
              "      background-color: #434B5C;\n",
              "      box-shadow: 0px 1px 3px 1px rgba(0, 0, 0, 0.15);\n",
              "      filter: drop-shadow(0px 1px 2px rgba(0, 0, 0, 0.3));\n",
              "      fill: #FFFFFF;\n",
              "    }\n",
              "  </style>\n",
              "\n",
              "    <script>\n",
              "      const buttonEl =\n",
              "        document.querySelector('#df-8f0002cf-154a-48f9-82b2-10b858dc45a8 button.colab-df-convert');\n",
              "      buttonEl.style.display =\n",
              "        google.colab.kernel.accessAllowed ? 'block' : 'none';\n",
              "\n",
              "      async function convertToInteractive(key) {\n",
              "        const element = document.querySelector('#df-8f0002cf-154a-48f9-82b2-10b858dc45a8');\n",
              "        const dataTable =\n",
              "          await google.colab.kernel.invokeFunction('convertToInteractive',\n",
              "                                                    [key], {});\n",
              "        if (!dataTable) return;\n",
              "\n",
              "        const docLinkHtml = 'Like what you see? Visit the ' +\n",
              "          '<a target=\"_blank\" href=https://colab.research.google.com/notebooks/data_table.ipynb>data table notebook</a>'\n",
              "          + ' to learn more about interactive tables.';\n",
              "        element.innerHTML = '';\n",
              "        dataTable['output_type'] = 'display_data';\n",
              "        await google.colab.output.renderOutput(dataTable, element);\n",
              "        const docLink = document.createElement('div');\n",
              "        docLink.innerHTML = docLinkHtml;\n",
              "        element.appendChild(docLink);\n",
              "      }\n",
              "    </script>\n",
              "  </div>\n",
              "\n",
              "\n",
              "<div id=\"df-cc99ad6a-5243-47a0-a531-631457e29c96\">\n",
              "  <button class=\"colab-df-quickchart\" onclick=\"quickchart('df-cc99ad6a-5243-47a0-a531-631457e29c96')\"\n",
              "            title=\"Suggest charts\"\n",
              "            style=\"display:none;\">\n",
              "\n",
              "<svg xmlns=\"http://www.w3.org/2000/svg\" height=\"24px\"viewBox=\"0 0 24 24\"\n",
              "     width=\"24px\">\n",
              "    <g>\n",
              "        <path d=\"M19 3H5c-1.1 0-2 .9-2 2v14c0 1.1.9 2 2 2h14c1.1 0 2-.9 2-2V5c0-1.1-.9-2-2-2zM9 17H7v-7h2v7zm4 0h-2V7h2v10zm4 0h-2v-4h2v4z\"/>\n",
              "    </g>\n",
              "</svg>\n",
              "  </button>\n",
              "\n",
              "<style>\n",
              "  .colab-df-quickchart {\n",
              "      --bg-color: #E8F0FE;\n",
              "      --fill-color: #1967D2;\n",
              "      --hover-bg-color: #E2EBFA;\n",
              "      --hover-fill-color: #174EA6;\n",
              "      --disabled-fill-color: #AAA;\n",
              "      --disabled-bg-color: #DDD;\n",
              "  }\n",
              "\n",
              "  [theme=dark] .colab-df-quickchart {\n",
              "      --bg-color: #3B4455;\n",
              "      --fill-color: #D2E3FC;\n",
              "      --hover-bg-color: #434B5C;\n",
              "      --hover-fill-color: #FFFFFF;\n",
              "      --disabled-bg-color: #3B4455;\n",
              "      --disabled-fill-color: #666;\n",
              "  }\n",
              "\n",
              "  .colab-df-quickchart {\n",
              "    background-color: var(--bg-color);\n",
              "    border: none;\n",
              "    border-radius: 50%;\n",
              "    cursor: pointer;\n",
              "    display: none;\n",
              "    fill: var(--fill-color);\n",
              "    height: 32px;\n",
              "    padding: 0;\n",
              "    width: 32px;\n",
              "  }\n",
              "\n",
              "  .colab-df-quickchart:hover {\n",
              "    background-color: var(--hover-bg-color);\n",
              "    box-shadow: 0 1px 2px rgba(60, 64, 67, 0.3), 0 1px 3px 1px rgba(60, 64, 67, 0.15);\n",
              "    fill: var(--button-hover-fill-color);\n",
              "  }\n",
              "\n",
              "  .colab-df-quickchart-complete:disabled,\n",
              "  .colab-df-quickchart-complete:disabled:hover {\n",
              "    background-color: var(--disabled-bg-color);\n",
              "    fill: var(--disabled-fill-color);\n",
              "    box-shadow: none;\n",
              "  }\n",
              "\n",
              "  .colab-df-spinner {\n",
              "    border: 2px solid var(--fill-color);\n",
              "    border-color: transparent;\n",
              "    border-bottom-color: var(--fill-color);\n",
              "    animation:\n",
              "      spin 1s steps(1) infinite;\n",
              "  }\n",
              "\n",
              "  @keyframes spin {\n",
              "    0% {\n",
              "      border-color: transparent;\n",
              "      border-bottom-color: var(--fill-color);\n",
              "      border-left-color: var(--fill-color);\n",
              "    }\n",
              "    20% {\n",
              "      border-color: transparent;\n",
              "      border-left-color: var(--fill-color);\n",
              "      border-top-color: var(--fill-color);\n",
              "    }\n",
              "    30% {\n",
              "      border-color: transparent;\n",
              "      border-left-color: var(--fill-color);\n",
              "      border-top-color: var(--fill-color);\n",
              "      border-right-color: var(--fill-color);\n",
              "    }\n",
              "    40% {\n",
              "      border-color: transparent;\n",
              "      border-right-color: var(--fill-color);\n",
              "      border-top-color: var(--fill-color);\n",
              "    }\n",
              "    60% {\n",
              "      border-color: transparent;\n",
              "      border-right-color: var(--fill-color);\n",
              "    }\n",
              "    80% {\n",
              "      border-color: transparent;\n",
              "      border-right-color: var(--fill-color);\n",
              "      border-bottom-color: var(--fill-color);\n",
              "    }\n",
              "    90% {\n",
              "      border-color: transparent;\n",
              "      border-bottom-color: var(--fill-color);\n",
              "    }\n",
              "  }\n",
              "</style>\n",
              "\n",
              "  <script>\n",
              "    async function quickchart(key) {\n",
              "      const quickchartButtonEl =\n",
              "        document.querySelector('#' + key + ' button');\n",
              "      quickchartButtonEl.disabled = true;  // To prevent multiple clicks.\n",
              "      quickchartButtonEl.classList.add('colab-df-spinner');\n",
              "      try {\n",
              "        const charts = await google.colab.kernel.invokeFunction(\n",
              "            'suggestCharts', [key], {});\n",
              "      } catch (error) {\n",
              "        console.error('Error during call to suggestCharts:', error);\n",
              "      }\n",
              "      quickchartButtonEl.classList.remove('colab-df-spinner');\n",
              "      quickchartButtonEl.classList.add('colab-df-quickchart-complete');\n",
              "    }\n",
              "    (() => {\n",
              "      let quickchartButtonEl =\n",
              "        document.querySelector('#df-cc99ad6a-5243-47a0-a531-631457e29c96 button');\n",
              "      quickchartButtonEl.style.display =\n",
              "        google.colab.kernel.accessAllowed ? 'block' : 'none';\n",
              "    })();\n",
              "  </script>\n",
              "</div>\n",
              "    </div>\n",
              "  </div>\n"
            ],
            "application/vnd.google.colaboratory.intrinsic+json": {
              "type": "dataframe",
              "variable_name": "employee_df"
            }
          },
          "metadata": {},
          "execution_count": 4
        }
      ],
      "source": [
        "employee_df.head(5)"
      ]
    },
    {
      "cell_type": "code",
      "execution_count": 5,
      "metadata": {
        "colab": {
          "base_uri": "https://localhost:8080/"
        },
        "id": "3qGqht1fH_EI",
        "outputId": "2d586cc7-21c7-4966-bd2e-9fc38daf2107"
      },
      "outputs": [
        {
          "output_type": "execute_result",
          "data": {
            "text/plain": [
              "(1470, 35)"
            ]
          },
          "metadata": {},
          "execution_count": 5
        }
      ],
      "source": [
        "employee_df.shape"
      ]
    },
    {
      "cell_type": "code",
      "execution_count": 6,
      "metadata": {
        "colab": {
          "base_uri": "https://localhost:8080/"
        },
        "id": "MIb8XGIHIFYQ",
        "outputId": "8359df40-1f2b-4350-d56e-aaed47e978e3"
      },
      "outputs": [
        {
          "output_type": "execute_result",
          "data": {
            "text/plain": [
              "EmployeeId                    int64\n",
              "Age                           int64\n",
              "Attrition                   float64\n",
              "BusinessTravel               object\n",
              "DailyRate                     int64\n",
              "Department                   object\n",
              "DistanceFromHome              int64\n",
              "Education                     int64\n",
              "EducationField               object\n",
              "EmployeeCount                 int64\n",
              "EnvironmentSatisfaction       int64\n",
              "Gender                       object\n",
              "HourlyRate                    int64\n",
              "JobInvolvement                int64\n",
              "JobLevel                      int64\n",
              "JobRole                      object\n",
              "JobSatisfaction               int64\n",
              "MaritalStatus                object\n",
              "MonthlyIncome                 int64\n",
              "MonthlyRate                   int64\n",
              "NumCompaniesWorked            int64\n",
              "Over18                       object\n",
              "OverTime                     object\n",
              "PercentSalaryHike             int64\n",
              "PerformanceRating             int64\n",
              "RelationshipSatisfaction      int64\n",
              "StandardHours                 int64\n",
              "StockOptionLevel              int64\n",
              "TotalWorkingYears             int64\n",
              "TrainingTimesLastYear         int64\n",
              "WorkLifeBalance               int64\n",
              "YearsAtCompany                int64\n",
              "YearsInCurrentRole            int64\n",
              "YearsSinceLastPromotion       int64\n",
              "YearsWithCurrManager          int64\n",
              "dtype: object"
            ]
          },
          "metadata": {},
          "execution_count": 6
        }
      ],
      "source": [
        "employee_df.dtypes"
      ]
    },
    {
      "cell_type": "code",
      "execution_count": 7,
      "metadata": {
        "colab": {
          "base_uri": "https://localhost:8080/",
          "height": 174
        },
        "id": "LGpqZX54IktL",
        "outputId": "173178c5-9344-4ea3-fc9b-c554467e4e7a"
      },
      "outputs": [
        {
          "output_type": "execute_result",
          "data": {
            "text/plain": [
              "       BusinessTravel              Department EducationField Gender  \\\n",
              "count            1470                    1470           1470   1470   \n",
              "unique              3                       3              6      2   \n",
              "top     Travel_Rarely  Research & Development  Life Sciences   Male   \n",
              "freq             1043                     961            606    882   \n",
              "\n",
              "                JobRole MaritalStatus Over18 OverTime  \n",
              "count              1470          1470   1470     1470  \n",
              "unique                9             3      1        2  \n",
              "top     Sales Executive       Married      Y       No  \n",
              "freq                326           673   1470     1054  "
            ],
            "text/html": [
              "\n",
              "  <div id=\"df-cfb0f79e-074d-427d-a01c-8d256e4f32a4\" class=\"colab-df-container\">\n",
              "    <div>\n",
              "<style scoped>\n",
              "    .dataframe tbody tr th:only-of-type {\n",
              "        vertical-align: middle;\n",
              "    }\n",
              "\n",
              "    .dataframe tbody tr th {\n",
              "        vertical-align: top;\n",
              "    }\n",
              "\n",
              "    .dataframe thead th {\n",
              "        text-align: right;\n",
              "    }\n",
              "</style>\n",
              "<table border=\"1\" class=\"dataframe\">\n",
              "  <thead>\n",
              "    <tr style=\"text-align: right;\">\n",
              "      <th></th>\n",
              "      <th>BusinessTravel</th>\n",
              "      <th>Department</th>\n",
              "      <th>EducationField</th>\n",
              "      <th>Gender</th>\n",
              "      <th>JobRole</th>\n",
              "      <th>MaritalStatus</th>\n",
              "      <th>Over18</th>\n",
              "      <th>OverTime</th>\n",
              "    </tr>\n",
              "  </thead>\n",
              "  <tbody>\n",
              "    <tr>\n",
              "      <th>count</th>\n",
              "      <td>1470</td>\n",
              "      <td>1470</td>\n",
              "      <td>1470</td>\n",
              "      <td>1470</td>\n",
              "      <td>1470</td>\n",
              "      <td>1470</td>\n",
              "      <td>1470</td>\n",
              "      <td>1470</td>\n",
              "    </tr>\n",
              "    <tr>\n",
              "      <th>unique</th>\n",
              "      <td>3</td>\n",
              "      <td>3</td>\n",
              "      <td>6</td>\n",
              "      <td>2</td>\n",
              "      <td>9</td>\n",
              "      <td>3</td>\n",
              "      <td>1</td>\n",
              "      <td>2</td>\n",
              "    </tr>\n",
              "    <tr>\n",
              "      <th>top</th>\n",
              "      <td>Travel_Rarely</td>\n",
              "      <td>Research &amp; Development</td>\n",
              "      <td>Life Sciences</td>\n",
              "      <td>Male</td>\n",
              "      <td>Sales Executive</td>\n",
              "      <td>Married</td>\n",
              "      <td>Y</td>\n",
              "      <td>No</td>\n",
              "    </tr>\n",
              "    <tr>\n",
              "      <th>freq</th>\n",
              "      <td>1043</td>\n",
              "      <td>961</td>\n",
              "      <td>606</td>\n",
              "      <td>882</td>\n",
              "      <td>326</td>\n",
              "      <td>673</td>\n",
              "      <td>1470</td>\n",
              "      <td>1054</td>\n",
              "    </tr>\n",
              "  </tbody>\n",
              "</table>\n",
              "</div>\n",
              "    <div class=\"colab-df-buttons\">\n",
              "\n",
              "  <div class=\"colab-df-container\">\n",
              "    <button class=\"colab-df-convert\" onclick=\"convertToInteractive('df-cfb0f79e-074d-427d-a01c-8d256e4f32a4')\"\n",
              "            title=\"Convert this dataframe to an interactive table.\"\n",
              "            style=\"display:none;\">\n",
              "\n",
              "  <svg xmlns=\"http://www.w3.org/2000/svg\" height=\"24px\" viewBox=\"0 -960 960 960\">\n",
              "    <path d=\"M120-120v-720h720v720H120Zm60-500h600v-160H180v160Zm220 220h160v-160H400v160Zm0 220h160v-160H400v160ZM180-400h160v-160H180v160Zm440 0h160v-160H620v160ZM180-180h160v-160H180v160Zm440 0h160v-160H620v160Z\"/>\n",
              "  </svg>\n",
              "    </button>\n",
              "\n",
              "  <style>\n",
              "    .colab-df-container {\n",
              "      display:flex;\n",
              "      gap: 12px;\n",
              "    }\n",
              "\n",
              "    .colab-df-convert {\n",
              "      background-color: #E8F0FE;\n",
              "      border: none;\n",
              "      border-radius: 50%;\n",
              "      cursor: pointer;\n",
              "      display: none;\n",
              "      fill: #1967D2;\n",
              "      height: 32px;\n",
              "      padding: 0 0 0 0;\n",
              "      width: 32px;\n",
              "    }\n",
              "\n",
              "    .colab-df-convert:hover {\n",
              "      background-color: #E2EBFA;\n",
              "      box-shadow: 0px 1px 2px rgba(60, 64, 67, 0.3), 0px 1px 3px 1px rgba(60, 64, 67, 0.15);\n",
              "      fill: #174EA6;\n",
              "    }\n",
              "\n",
              "    .colab-df-buttons div {\n",
              "      margin-bottom: 4px;\n",
              "    }\n",
              "\n",
              "    [theme=dark] .colab-df-convert {\n",
              "      background-color: #3B4455;\n",
              "      fill: #D2E3FC;\n",
              "    }\n",
              "\n",
              "    [theme=dark] .colab-df-convert:hover {\n",
              "      background-color: #434B5C;\n",
              "      box-shadow: 0px 1px 3px 1px rgba(0, 0, 0, 0.15);\n",
              "      filter: drop-shadow(0px 1px 2px rgba(0, 0, 0, 0.3));\n",
              "      fill: #FFFFFF;\n",
              "    }\n",
              "  </style>\n",
              "\n",
              "    <script>\n",
              "      const buttonEl =\n",
              "        document.querySelector('#df-cfb0f79e-074d-427d-a01c-8d256e4f32a4 button.colab-df-convert');\n",
              "      buttonEl.style.display =\n",
              "        google.colab.kernel.accessAllowed ? 'block' : 'none';\n",
              "\n",
              "      async function convertToInteractive(key) {\n",
              "        const element = document.querySelector('#df-cfb0f79e-074d-427d-a01c-8d256e4f32a4');\n",
              "        const dataTable =\n",
              "          await google.colab.kernel.invokeFunction('convertToInteractive',\n",
              "                                                    [key], {});\n",
              "        if (!dataTable) return;\n",
              "\n",
              "        const docLinkHtml = 'Like what you see? Visit the ' +\n",
              "          '<a target=\"_blank\" href=https://colab.research.google.com/notebooks/data_table.ipynb>data table notebook</a>'\n",
              "          + ' to learn more about interactive tables.';\n",
              "        element.innerHTML = '';\n",
              "        dataTable['output_type'] = 'display_data';\n",
              "        await google.colab.output.renderOutput(dataTable, element);\n",
              "        const docLink = document.createElement('div');\n",
              "        docLink.innerHTML = docLinkHtml;\n",
              "        element.appendChild(docLink);\n",
              "      }\n",
              "    </script>\n",
              "  </div>\n",
              "\n",
              "\n",
              "<div id=\"df-ddd743ac-535f-449d-bf8e-3de3ea358473\">\n",
              "  <button class=\"colab-df-quickchart\" onclick=\"quickchart('df-ddd743ac-535f-449d-bf8e-3de3ea358473')\"\n",
              "            title=\"Suggest charts\"\n",
              "            style=\"display:none;\">\n",
              "\n",
              "<svg xmlns=\"http://www.w3.org/2000/svg\" height=\"24px\"viewBox=\"0 0 24 24\"\n",
              "     width=\"24px\">\n",
              "    <g>\n",
              "        <path d=\"M19 3H5c-1.1 0-2 .9-2 2v14c0 1.1.9 2 2 2h14c1.1 0 2-.9 2-2V5c0-1.1-.9-2-2-2zM9 17H7v-7h2v7zm4 0h-2V7h2v10zm4 0h-2v-4h2v4z\"/>\n",
              "    </g>\n",
              "</svg>\n",
              "  </button>\n",
              "\n",
              "<style>\n",
              "  .colab-df-quickchart {\n",
              "      --bg-color: #E8F0FE;\n",
              "      --fill-color: #1967D2;\n",
              "      --hover-bg-color: #E2EBFA;\n",
              "      --hover-fill-color: #174EA6;\n",
              "      --disabled-fill-color: #AAA;\n",
              "      --disabled-bg-color: #DDD;\n",
              "  }\n",
              "\n",
              "  [theme=dark] .colab-df-quickchart {\n",
              "      --bg-color: #3B4455;\n",
              "      --fill-color: #D2E3FC;\n",
              "      --hover-bg-color: #434B5C;\n",
              "      --hover-fill-color: #FFFFFF;\n",
              "      --disabled-bg-color: #3B4455;\n",
              "      --disabled-fill-color: #666;\n",
              "  }\n",
              "\n",
              "  .colab-df-quickchart {\n",
              "    background-color: var(--bg-color);\n",
              "    border: none;\n",
              "    border-radius: 50%;\n",
              "    cursor: pointer;\n",
              "    display: none;\n",
              "    fill: var(--fill-color);\n",
              "    height: 32px;\n",
              "    padding: 0;\n",
              "    width: 32px;\n",
              "  }\n",
              "\n",
              "  .colab-df-quickchart:hover {\n",
              "    background-color: var(--hover-bg-color);\n",
              "    box-shadow: 0 1px 2px rgba(60, 64, 67, 0.3), 0 1px 3px 1px rgba(60, 64, 67, 0.15);\n",
              "    fill: var(--button-hover-fill-color);\n",
              "  }\n",
              "\n",
              "  .colab-df-quickchart-complete:disabled,\n",
              "  .colab-df-quickchart-complete:disabled:hover {\n",
              "    background-color: var(--disabled-bg-color);\n",
              "    fill: var(--disabled-fill-color);\n",
              "    box-shadow: none;\n",
              "  }\n",
              "\n",
              "  .colab-df-spinner {\n",
              "    border: 2px solid var(--fill-color);\n",
              "    border-color: transparent;\n",
              "    border-bottom-color: var(--fill-color);\n",
              "    animation:\n",
              "      spin 1s steps(1) infinite;\n",
              "  }\n",
              "\n",
              "  @keyframes spin {\n",
              "    0% {\n",
              "      border-color: transparent;\n",
              "      border-bottom-color: var(--fill-color);\n",
              "      border-left-color: var(--fill-color);\n",
              "    }\n",
              "    20% {\n",
              "      border-color: transparent;\n",
              "      border-left-color: var(--fill-color);\n",
              "      border-top-color: var(--fill-color);\n",
              "    }\n",
              "    30% {\n",
              "      border-color: transparent;\n",
              "      border-left-color: var(--fill-color);\n",
              "      border-top-color: var(--fill-color);\n",
              "      border-right-color: var(--fill-color);\n",
              "    }\n",
              "    40% {\n",
              "      border-color: transparent;\n",
              "      border-right-color: var(--fill-color);\n",
              "      border-top-color: var(--fill-color);\n",
              "    }\n",
              "    60% {\n",
              "      border-color: transparent;\n",
              "      border-right-color: var(--fill-color);\n",
              "    }\n",
              "    80% {\n",
              "      border-color: transparent;\n",
              "      border-right-color: var(--fill-color);\n",
              "      border-bottom-color: var(--fill-color);\n",
              "    }\n",
              "    90% {\n",
              "      border-color: transparent;\n",
              "      border-bottom-color: var(--fill-color);\n",
              "    }\n",
              "  }\n",
              "</style>\n",
              "\n",
              "  <script>\n",
              "    async function quickchart(key) {\n",
              "      const quickchartButtonEl =\n",
              "        document.querySelector('#' + key + ' button');\n",
              "      quickchartButtonEl.disabled = true;  // To prevent multiple clicks.\n",
              "      quickchartButtonEl.classList.add('colab-df-spinner');\n",
              "      try {\n",
              "        const charts = await google.colab.kernel.invokeFunction(\n",
              "            'suggestCharts', [key], {});\n",
              "      } catch (error) {\n",
              "        console.error('Error during call to suggestCharts:', error);\n",
              "      }\n",
              "      quickchartButtonEl.classList.remove('colab-df-spinner');\n",
              "      quickchartButtonEl.classList.add('colab-df-quickchart-complete');\n",
              "    }\n",
              "    (() => {\n",
              "      let quickchartButtonEl =\n",
              "        document.querySelector('#df-ddd743ac-535f-449d-bf8e-3de3ea358473 button');\n",
              "      quickchartButtonEl.style.display =\n",
              "        google.colab.kernel.accessAllowed ? 'block' : 'none';\n",
              "    })();\n",
              "  </script>\n",
              "</div>\n",
              "    </div>\n",
              "  </div>\n"
            ],
            "application/vnd.google.colaboratory.intrinsic+json": {
              "type": "dataframe",
              "summary": "{\n  \"name\": \"employee_df\",\n  \"rows\": 4,\n  \"fields\": [\n    {\n      \"column\": \"BusinessTravel\",\n      \"properties\": {\n        \"dtype\": \"string\",\n        \"num_unique_values\": 4,\n        \"samples\": [\n          3,\n          \"1043\",\n          \"1470\"\n        ],\n        \"semantic_type\": \"\",\n        \"description\": \"\"\n      }\n    },\n    {\n      \"column\": \"Department\",\n      \"properties\": {\n        \"dtype\": \"string\",\n        \"num_unique_values\": 4,\n        \"samples\": [\n          3,\n          \"961\",\n          \"1470\"\n        ],\n        \"semantic_type\": \"\",\n        \"description\": \"\"\n      }\n    },\n    {\n      \"column\": \"EducationField\",\n      \"properties\": {\n        \"dtype\": \"string\",\n        \"num_unique_values\": 4,\n        \"samples\": [\n          6,\n          \"606\",\n          \"1470\"\n        ],\n        \"semantic_type\": \"\",\n        \"description\": \"\"\n      }\n    },\n    {\n      \"column\": \"Gender\",\n      \"properties\": {\n        \"dtype\": \"string\",\n        \"num_unique_values\": 4,\n        \"samples\": [\n          2,\n          \"882\",\n          \"1470\"\n        ],\n        \"semantic_type\": \"\",\n        \"description\": \"\"\n      }\n    },\n    {\n      \"column\": \"JobRole\",\n      \"properties\": {\n        \"dtype\": \"string\",\n        \"num_unique_values\": 4,\n        \"samples\": [\n          9,\n          \"326\",\n          \"1470\"\n        ],\n        \"semantic_type\": \"\",\n        \"description\": \"\"\n      }\n    },\n    {\n      \"column\": \"MaritalStatus\",\n      \"properties\": {\n        \"dtype\": \"string\",\n        \"num_unique_values\": 4,\n        \"samples\": [\n          3,\n          \"673\",\n          \"1470\"\n        ],\n        \"semantic_type\": \"\",\n        \"description\": \"\"\n      }\n    },\n    {\n      \"column\": \"Over18\",\n      \"properties\": {\n        \"dtype\": \"string\",\n        \"num_unique_values\": 3,\n        \"samples\": [\n          \"1470\",\n          1,\n          \"Y\"\n        ],\n        \"semantic_type\": \"\",\n        \"description\": \"\"\n      }\n    },\n    {\n      \"column\": \"OverTime\",\n      \"properties\": {\n        \"dtype\": \"string\",\n        \"num_unique_values\": 4,\n        \"samples\": [\n          2,\n          \"1054\",\n          \"1470\"\n        ],\n        \"semantic_type\": \"\",\n        \"description\": \"\"\n      }\n    }\n  ]\n}"
            }
          },
          "metadata": {},
          "execution_count": 7
        }
      ],
      "source": [
        "employee_df.describe(include='object')"
      ]
    },
    {
      "cell_type": "code",
      "execution_count": 8,
      "metadata": {
        "colab": {
          "base_uri": "https://localhost:8080/",
          "height": 349
        },
        "id": "7Sm1VSPnJVU7",
        "outputId": "aecf9c33-0a54-4cab-da95-aff4a223ff28"
      },
      "outputs": [
        {
          "output_type": "execute_result",
          "data": {
            "text/plain": [
              "        EmployeeId          Age    Attrition    DailyRate  DistanceFromHome  \\\n",
              "count  1470.000000  1470.000000  1058.000000  1470.000000       1470.000000   \n",
              "mean    735.500000    36.923810     0.169187   802.485714          9.192517   \n",
              "std     424.496761     9.135373     0.375094   403.509100          8.106864   \n",
              "min       1.000000    18.000000     0.000000   102.000000          1.000000   \n",
              "25%     368.250000    30.000000     0.000000   465.000000          2.000000   \n",
              "50%     735.500000    36.000000     0.000000   802.000000          7.000000   \n",
              "75%    1102.750000    43.000000     0.000000  1157.000000         14.000000   \n",
              "max    1470.000000    60.000000     1.000000  1499.000000         29.000000   \n",
              "\n",
              "         Education  EmployeeCount  EnvironmentSatisfaction   HourlyRate  \\\n",
              "count  1470.000000         1470.0              1470.000000  1470.000000   \n",
              "mean      2.912925            1.0                 2.721769    65.891156   \n",
              "std       1.024165            0.0                 1.093082    20.329428   \n",
              "min       1.000000            1.0                 1.000000    30.000000   \n",
              "25%       2.000000            1.0                 2.000000    48.000000   \n",
              "50%       3.000000            1.0                 3.000000    66.000000   \n",
              "75%       4.000000            1.0                 4.000000    83.750000   \n",
              "max       5.000000            1.0                 4.000000   100.000000   \n",
              "\n",
              "       JobInvolvement  ...  RelationshipSatisfaction  StandardHours  \\\n",
              "count     1470.000000  ...               1470.000000         1470.0   \n",
              "mean         2.729932  ...                  2.712245           80.0   \n",
              "std          0.711561  ...                  1.081209            0.0   \n",
              "min          1.000000  ...                  1.000000           80.0   \n",
              "25%          2.000000  ...                  2.000000           80.0   \n",
              "50%          3.000000  ...                  3.000000           80.0   \n",
              "75%          3.000000  ...                  4.000000           80.0   \n",
              "max          4.000000  ...                  4.000000           80.0   \n",
              "\n",
              "       StockOptionLevel  TotalWorkingYears  TrainingTimesLastYear  \\\n",
              "count       1470.000000        1470.000000            1470.000000   \n",
              "mean           0.793878          11.279592               2.799320   \n",
              "std            0.852077           7.780782               1.289271   \n",
              "min            0.000000           0.000000               0.000000   \n",
              "25%            0.000000           6.000000               2.000000   \n",
              "50%            1.000000          10.000000               3.000000   \n",
              "75%            1.000000          15.000000               3.000000   \n",
              "max            3.000000          40.000000               6.000000   \n",
              "\n",
              "       WorkLifeBalance  YearsAtCompany  YearsInCurrentRole  \\\n",
              "count      1470.000000     1470.000000         1470.000000   \n",
              "mean          2.761224        7.008163            4.229252   \n",
              "std           0.706476        6.126525            3.623137   \n",
              "min           1.000000        0.000000            0.000000   \n",
              "25%           2.000000        3.000000            2.000000   \n",
              "50%           3.000000        5.000000            3.000000   \n",
              "75%           3.000000        9.000000            7.000000   \n",
              "max           4.000000       40.000000           18.000000   \n",
              "\n",
              "       YearsSinceLastPromotion  YearsWithCurrManager  \n",
              "count              1470.000000           1470.000000  \n",
              "mean                  2.187755              4.123129  \n",
              "std                   3.222430              3.568136  \n",
              "min                   0.000000              0.000000  \n",
              "25%                   0.000000              2.000000  \n",
              "50%                   1.000000              3.000000  \n",
              "75%                   3.000000              7.000000  \n",
              "max                  15.000000             17.000000  \n",
              "\n",
              "[8 rows x 27 columns]"
            ],
            "text/html": [
              "\n",
              "  <div id=\"df-4c081eaa-0826-473c-9384-5bc805757310\" class=\"colab-df-container\">\n",
              "    <div>\n",
              "<style scoped>\n",
              "    .dataframe tbody tr th:only-of-type {\n",
              "        vertical-align: middle;\n",
              "    }\n",
              "\n",
              "    .dataframe tbody tr th {\n",
              "        vertical-align: top;\n",
              "    }\n",
              "\n",
              "    .dataframe thead th {\n",
              "        text-align: right;\n",
              "    }\n",
              "</style>\n",
              "<table border=\"1\" class=\"dataframe\">\n",
              "  <thead>\n",
              "    <tr style=\"text-align: right;\">\n",
              "      <th></th>\n",
              "      <th>EmployeeId</th>\n",
              "      <th>Age</th>\n",
              "      <th>Attrition</th>\n",
              "      <th>DailyRate</th>\n",
              "      <th>DistanceFromHome</th>\n",
              "      <th>Education</th>\n",
              "      <th>EmployeeCount</th>\n",
              "      <th>EnvironmentSatisfaction</th>\n",
              "      <th>HourlyRate</th>\n",
              "      <th>JobInvolvement</th>\n",
              "      <th>...</th>\n",
              "      <th>RelationshipSatisfaction</th>\n",
              "      <th>StandardHours</th>\n",
              "      <th>StockOptionLevel</th>\n",
              "      <th>TotalWorkingYears</th>\n",
              "      <th>TrainingTimesLastYear</th>\n",
              "      <th>WorkLifeBalance</th>\n",
              "      <th>YearsAtCompany</th>\n",
              "      <th>YearsInCurrentRole</th>\n",
              "      <th>YearsSinceLastPromotion</th>\n",
              "      <th>YearsWithCurrManager</th>\n",
              "    </tr>\n",
              "  </thead>\n",
              "  <tbody>\n",
              "    <tr>\n",
              "      <th>count</th>\n",
              "      <td>1470.000000</td>\n",
              "      <td>1470.000000</td>\n",
              "      <td>1058.000000</td>\n",
              "      <td>1470.000000</td>\n",
              "      <td>1470.000000</td>\n",
              "      <td>1470.000000</td>\n",
              "      <td>1470.0</td>\n",
              "      <td>1470.000000</td>\n",
              "      <td>1470.000000</td>\n",
              "      <td>1470.000000</td>\n",
              "      <td>...</td>\n",
              "      <td>1470.000000</td>\n",
              "      <td>1470.0</td>\n",
              "      <td>1470.000000</td>\n",
              "      <td>1470.000000</td>\n",
              "      <td>1470.000000</td>\n",
              "      <td>1470.000000</td>\n",
              "      <td>1470.000000</td>\n",
              "      <td>1470.000000</td>\n",
              "      <td>1470.000000</td>\n",
              "      <td>1470.000000</td>\n",
              "    </tr>\n",
              "    <tr>\n",
              "      <th>mean</th>\n",
              "      <td>735.500000</td>\n",
              "      <td>36.923810</td>\n",
              "      <td>0.169187</td>\n",
              "      <td>802.485714</td>\n",
              "      <td>9.192517</td>\n",
              "      <td>2.912925</td>\n",
              "      <td>1.0</td>\n",
              "      <td>2.721769</td>\n",
              "      <td>65.891156</td>\n",
              "      <td>2.729932</td>\n",
              "      <td>...</td>\n",
              "      <td>2.712245</td>\n",
              "      <td>80.0</td>\n",
              "      <td>0.793878</td>\n",
              "      <td>11.279592</td>\n",
              "      <td>2.799320</td>\n",
              "      <td>2.761224</td>\n",
              "      <td>7.008163</td>\n",
              "      <td>4.229252</td>\n",
              "      <td>2.187755</td>\n",
              "      <td>4.123129</td>\n",
              "    </tr>\n",
              "    <tr>\n",
              "      <th>std</th>\n",
              "      <td>424.496761</td>\n",
              "      <td>9.135373</td>\n",
              "      <td>0.375094</td>\n",
              "      <td>403.509100</td>\n",
              "      <td>8.106864</td>\n",
              "      <td>1.024165</td>\n",
              "      <td>0.0</td>\n",
              "      <td>1.093082</td>\n",
              "      <td>20.329428</td>\n",
              "      <td>0.711561</td>\n",
              "      <td>...</td>\n",
              "      <td>1.081209</td>\n",
              "      <td>0.0</td>\n",
              "      <td>0.852077</td>\n",
              "      <td>7.780782</td>\n",
              "      <td>1.289271</td>\n",
              "      <td>0.706476</td>\n",
              "      <td>6.126525</td>\n",
              "      <td>3.623137</td>\n",
              "      <td>3.222430</td>\n",
              "      <td>3.568136</td>\n",
              "    </tr>\n",
              "    <tr>\n",
              "      <th>min</th>\n",
              "      <td>1.000000</td>\n",
              "      <td>18.000000</td>\n",
              "      <td>0.000000</td>\n",
              "      <td>102.000000</td>\n",
              "      <td>1.000000</td>\n",
              "      <td>1.000000</td>\n",
              "      <td>1.0</td>\n",
              "      <td>1.000000</td>\n",
              "      <td>30.000000</td>\n",
              "      <td>1.000000</td>\n",
              "      <td>...</td>\n",
              "      <td>1.000000</td>\n",
              "      <td>80.0</td>\n",
              "      <td>0.000000</td>\n",
              "      <td>0.000000</td>\n",
              "      <td>0.000000</td>\n",
              "      <td>1.000000</td>\n",
              "      <td>0.000000</td>\n",
              "      <td>0.000000</td>\n",
              "      <td>0.000000</td>\n",
              "      <td>0.000000</td>\n",
              "    </tr>\n",
              "    <tr>\n",
              "      <th>25%</th>\n",
              "      <td>368.250000</td>\n",
              "      <td>30.000000</td>\n",
              "      <td>0.000000</td>\n",
              "      <td>465.000000</td>\n",
              "      <td>2.000000</td>\n",
              "      <td>2.000000</td>\n",
              "      <td>1.0</td>\n",
              "      <td>2.000000</td>\n",
              "      <td>48.000000</td>\n",
              "      <td>2.000000</td>\n",
              "      <td>...</td>\n",
              "      <td>2.000000</td>\n",
              "      <td>80.0</td>\n",
              "      <td>0.000000</td>\n",
              "      <td>6.000000</td>\n",
              "      <td>2.000000</td>\n",
              "      <td>2.000000</td>\n",
              "      <td>3.000000</td>\n",
              "      <td>2.000000</td>\n",
              "      <td>0.000000</td>\n",
              "      <td>2.000000</td>\n",
              "    </tr>\n",
              "    <tr>\n",
              "      <th>50%</th>\n",
              "      <td>735.500000</td>\n",
              "      <td>36.000000</td>\n",
              "      <td>0.000000</td>\n",
              "      <td>802.000000</td>\n",
              "      <td>7.000000</td>\n",
              "      <td>3.000000</td>\n",
              "      <td>1.0</td>\n",
              "      <td>3.000000</td>\n",
              "      <td>66.000000</td>\n",
              "      <td>3.000000</td>\n",
              "      <td>...</td>\n",
              "      <td>3.000000</td>\n",
              "      <td>80.0</td>\n",
              "      <td>1.000000</td>\n",
              "      <td>10.000000</td>\n",
              "      <td>3.000000</td>\n",
              "      <td>3.000000</td>\n",
              "      <td>5.000000</td>\n",
              "      <td>3.000000</td>\n",
              "      <td>1.000000</td>\n",
              "      <td>3.000000</td>\n",
              "    </tr>\n",
              "    <tr>\n",
              "      <th>75%</th>\n",
              "      <td>1102.750000</td>\n",
              "      <td>43.000000</td>\n",
              "      <td>0.000000</td>\n",
              "      <td>1157.000000</td>\n",
              "      <td>14.000000</td>\n",
              "      <td>4.000000</td>\n",
              "      <td>1.0</td>\n",
              "      <td>4.000000</td>\n",
              "      <td>83.750000</td>\n",
              "      <td>3.000000</td>\n",
              "      <td>...</td>\n",
              "      <td>4.000000</td>\n",
              "      <td>80.0</td>\n",
              "      <td>1.000000</td>\n",
              "      <td>15.000000</td>\n",
              "      <td>3.000000</td>\n",
              "      <td>3.000000</td>\n",
              "      <td>9.000000</td>\n",
              "      <td>7.000000</td>\n",
              "      <td>3.000000</td>\n",
              "      <td>7.000000</td>\n",
              "    </tr>\n",
              "    <tr>\n",
              "      <th>max</th>\n",
              "      <td>1470.000000</td>\n",
              "      <td>60.000000</td>\n",
              "      <td>1.000000</td>\n",
              "      <td>1499.000000</td>\n",
              "      <td>29.000000</td>\n",
              "      <td>5.000000</td>\n",
              "      <td>1.0</td>\n",
              "      <td>4.000000</td>\n",
              "      <td>100.000000</td>\n",
              "      <td>4.000000</td>\n",
              "      <td>...</td>\n",
              "      <td>4.000000</td>\n",
              "      <td>80.0</td>\n",
              "      <td>3.000000</td>\n",
              "      <td>40.000000</td>\n",
              "      <td>6.000000</td>\n",
              "      <td>4.000000</td>\n",
              "      <td>40.000000</td>\n",
              "      <td>18.000000</td>\n",
              "      <td>15.000000</td>\n",
              "      <td>17.000000</td>\n",
              "    </tr>\n",
              "  </tbody>\n",
              "</table>\n",
              "<p>8 rows × 27 columns</p>\n",
              "</div>\n",
              "    <div class=\"colab-df-buttons\">\n",
              "\n",
              "  <div class=\"colab-df-container\">\n",
              "    <button class=\"colab-df-convert\" onclick=\"convertToInteractive('df-4c081eaa-0826-473c-9384-5bc805757310')\"\n",
              "            title=\"Convert this dataframe to an interactive table.\"\n",
              "            style=\"display:none;\">\n",
              "\n",
              "  <svg xmlns=\"http://www.w3.org/2000/svg\" height=\"24px\" viewBox=\"0 -960 960 960\">\n",
              "    <path d=\"M120-120v-720h720v720H120Zm60-500h600v-160H180v160Zm220 220h160v-160H400v160Zm0 220h160v-160H400v160ZM180-400h160v-160H180v160Zm440 0h160v-160H620v160ZM180-180h160v-160H180v160Zm440 0h160v-160H620v160Z\"/>\n",
              "  </svg>\n",
              "    </button>\n",
              "\n",
              "  <style>\n",
              "    .colab-df-container {\n",
              "      display:flex;\n",
              "      gap: 12px;\n",
              "    }\n",
              "\n",
              "    .colab-df-convert {\n",
              "      background-color: #E8F0FE;\n",
              "      border: none;\n",
              "      border-radius: 50%;\n",
              "      cursor: pointer;\n",
              "      display: none;\n",
              "      fill: #1967D2;\n",
              "      height: 32px;\n",
              "      padding: 0 0 0 0;\n",
              "      width: 32px;\n",
              "    }\n",
              "\n",
              "    .colab-df-convert:hover {\n",
              "      background-color: #E2EBFA;\n",
              "      box-shadow: 0px 1px 2px rgba(60, 64, 67, 0.3), 0px 1px 3px 1px rgba(60, 64, 67, 0.15);\n",
              "      fill: #174EA6;\n",
              "    }\n",
              "\n",
              "    .colab-df-buttons div {\n",
              "      margin-bottom: 4px;\n",
              "    }\n",
              "\n",
              "    [theme=dark] .colab-df-convert {\n",
              "      background-color: #3B4455;\n",
              "      fill: #D2E3FC;\n",
              "    }\n",
              "\n",
              "    [theme=dark] .colab-df-convert:hover {\n",
              "      background-color: #434B5C;\n",
              "      box-shadow: 0px 1px 3px 1px rgba(0, 0, 0, 0.15);\n",
              "      filter: drop-shadow(0px 1px 2px rgba(0, 0, 0, 0.3));\n",
              "      fill: #FFFFFF;\n",
              "    }\n",
              "  </style>\n",
              "\n",
              "    <script>\n",
              "      const buttonEl =\n",
              "        document.querySelector('#df-4c081eaa-0826-473c-9384-5bc805757310 button.colab-df-convert');\n",
              "      buttonEl.style.display =\n",
              "        google.colab.kernel.accessAllowed ? 'block' : 'none';\n",
              "\n",
              "      async function convertToInteractive(key) {\n",
              "        const element = document.querySelector('#df-4c081eaa-0826-473c-9384-5bc805757310');\n",
              "        const dataTable =\n",
              "          await google.colab.kernel.invokeFunction('convertToInteractive',\n",
              "                                                    [key], {});\n",
              "        if (!dataTable) return;\n",
              "\n",
              "        const docLinkHtml = 'Like what you see? Visit the ' +\n",
              "          '<a target=\"_blank\" href=https://colab.research.google.com/notebooks/data_table.ipynb>data table notebook</a>'\n",
              "          + ' to learn more about interactive tables.';\n",
              "        element.innerHTML = '';\n",
              "        dataTable['output_type'] = 'display_data';\n",
              "        await google.colab.output.renderOutput(dataTable, element);\n",
              "        const docLink = document.createElement('div');\n",
              "        docLink.innerHTML = docLinkHtml;\n",
              "        element.appendChild(docLink);\n",
              "      }\n",
              "    </script>\n",
              "  </div>\n",
              "\n",
              "\n",
              "<div id=\"df-0ba38deb-8741-43b1-ac52-1b9e3480f8d1\">\n",
              "  <button class=\"colab-df-quickchart\" onclick=\"quickchart('df-0ba38deb-8741-43b1-ac52-1b9e3480f8d1')\"\n",
              "            title=\"Suggest charts\"\n",
              "            style=\"display:none;\">\n",
              "\n",
              "<svg xmlns=\"http://www.w3.org/2000/svg\" height=\"24px\"viewBox=\"0 0 24 24\"\n",
              "     width=\"24px\">\n",
              "    <g>\n",
              "        <path d=\"M19 3H5c-1.1 0-2 .9-2 2v14c0 1.1.9 2 2 2h14c1.1 0 2-.9 2-2V5c0-1.1-.9-2-2-2zM9 17H7v-7h2v7zm4 0h-2V7h2v10zm4 0h-2v-4h2v4z\"/>\n",
              "    </g>\n",
              "</svg>\n",
              "  </button>\n",
              "\n",
              "<style>\n",
              "  .colab-df-quickchart {\n",
              "      --bg-color: #E8F0FE;\n",
              "      --fill-color: #1967D2;\n",
              "      --hover-bg-color: #E2EBFA;\n",
              "      --hover-fill-color: #174EA6;\n",
              "      --disabled-fill-color: #AAA;\n",
              "      --disabled-bg-color: #DDD;\n",
              "  }\n",
              "\n",
              "  [theme=dark] .colab-df-quickchart {\n",
              "      --bg-color: #3B4455;\n",
              "      --fill-color: #D2E3FC;\n",
              "      --hover-bg-color: #434B5C;\n",
              "      --hover-fill-color: #FFFFFF;\n",
              "      --disabled-bg-color: #3B4455;\n",
              "      --disabled-fill-color: #666;\n",
              "  }\n",
              "\n",
              "  .colab-df-quickchart {\n",
              "    background-color: var(--bg-color);\n",
              "    border: none;\n",
              "    border-radius: 50%;\n",
              "    cursor: pointer;\n",
              "    display: none;\n",
              "    fill: var(--fill-color);\n",
              "    height: 32px;\n",
              "    padding: 0;\n",
              "    width: 32px;\n",
              "  }\n",
              "\n",
              "  .colab-df-quickchart:hover {\n",
              "    background-color: var(--hover-bg-color);\n",
              "    box-shadow: 0 1px 2px rgba(60, 64, 67, 0.3), 0 1px 3px 1px rgba(60, 64, 67, 0.15);\n",
              "    fill: var(--button-hover-fill-color);\n",
              "  }\n",
              "\n",
              "  .colab-df-quickchart-complete:disabled,\n",
              "  .colab-df-quickchart-complete:disabled:hover {\n",
              "    background-color: var(--disabled-bg-color);\n",
              "    fill: var(--disabled-fill-color);\n",
              "    box-shadow: none;\n",
              "  }\n",
              "\n",
              "  .colab-df-spinner {\n",
              "    border: 2px solid var(--fill-color);\n",
              "    border-color: transparent;\n",
              "    border-bottom-color: var(--fill-color);\n",
              "    animation:\n",
              "      spin 1s steps(1) infinite;\n",
              "  }\n",
              "\n",
              "  @keyframes spin {\n",
              "    0% {\n",
              "      border-color: transparent;\n",
              "      border-bottom-color: var(--fill-color);\n",
              "      border-left-color: var(--fill-color);\n",
              "    }\n",
              "    20% {\n",
              "      border-color: transparent;\n",
              "      border-left-color: var(--fill-color);\n",
              "      border-top-color: var(--fill-color);\n",
              "    }\n",
              "    30% {\n",
              "      border-color: transparent;\n",
              "      border-left-color: var(--fill-color);\n",
              "      border-top-color: var(--fill-color);\n",
              "      border-right-color: var(--fill-color);\n",
              "    }\n",
              "    40% {\n",
              "      border-color: transparent;\n",
              "      border-right-color: var(--fill-color);\n",
              "      border-top-color: var(--fill-color);\n",
              "    }\n",
              "    60% {\n",
              "      border-color: transparent;\n",
              "      border-right-color: var(--fill-color);\n",
              "    }\n",
              "    80% {\n",
              "      border-color: transparent;\n",
              "      border-right-color: var(--fill-color);\n",
              "      border-bottom-color: var(--fill-color);\n",
              "    }\n",
              "    90% {\n",
              "      border-color: transparent;\n",
              "      border-bottom-color: var(--fill-color);\n",
              "    }\n",
              "  }\n",
              "</style>\n",
              "\n",
              "  <script>\n",
              "    async function quickchart(key) {\n",
              "      const quickchartButtonEl =\n",
              "        document.querySelector('#' + key + ' button');\n",
              "      quickchartButtonEl.disabled = true;  // To prevent multiple clicks.\n",
              "      quickchartButtonEl.classList.add('colab-df-spinner');\n",
              "      try {\n",
              "        const charts = await google.colab.kernel.invokeFunction(\n",
              "            'suggestCharts', [key], {});\n",
              "      } catch (error) {\n",
              "        console.error('Error during call to suggestCharts:', error);\n",
              "      }\n",
              "      quickchartButtonEl.classList.remove('colab-df-spinner');\n",
              "      quickchartButtonEl.classList.add('colab-df-quickchart-complete');\n",
              "    }\n",
              "    (() => {\n",
              "      let quickchartButtonEl =\n",
              "        document.querySelector('#df-0ba38deb-8741-43b1-ac52-1b9e3480f8d1 button');\n",
              "      quickchartButtonEl.style.display =\n",
              "        google.colab.kernel.accessAllowed ? 'block' : 'none';\n",
              "    })();\n",
              "  </script>\n",
              "</div>\n",
              "    </div>\n",
              "  </div>\n"
            ],
            "application/vnd.google.colaboratory.intrinsic+json": {
              "type": "dataframe"
            }
          },
          "metadata": {},
          "execution_count": 8
        }
      ],
      "source": [
        "employee_df.describe()"
      ]
    },
    {
      "cell_type": "code",
      "source": [
        "employee_df.duplicated().sum()"
      ],
      "metadata": {
        "colab": {
          "base_uri": "https://localhost:8080/"
        },
        "id": "v4Y__MiUOman",
        "outputId": "1e3bcaa1-c9eb-41c2-8873-cebbd6c8f1c4"
      },
      "execution_count": 9,
      "outputs": [
        {
          "output_type": "execute_result",
          "data": {
            "text/plain": [
              "0"
            ]
          },
          "metadata": {},
          "execution_count": 9
        }
      ]
    },
    {
      "cell_type": "code",
      "execution_count": 10,
      "metadata": {
        "colab": {
          "base_uri": "https://localhost:8080/"
        },
        "id": "NCFQ0mAkIckJ",
        "outputId": "4acc37df-25d3-4f7f-ccad-68cd2ba281b7"
      },
      "outputs": [
        {
          "output_type": "execute_result",
          "data": {
            "text/plain": [
              "EmployeeId                    0\n",
              "Age                           0\n",
              "Attrition                   412\n",
              "BusinessTravel                0\n",
              "DailyRate                     0\n",
              "Department                    0\n",
              "DistanceFromHome              0\n",
              "Education                     0\n",
              "EducationField                0\n",
              "EmployeeCount                 0\n",
              "EnvironmentSatisfaction       0\n",
              "Gender                        0\n",
              "HourlyRate                    0\n",
              "JobInvolvement                0\n",
              "JobLevel                      0\n",
              "JobRole                       0\n",
              "JobSatisfaction               0\n",
              "MaritalStatus                 0\n",
              "MonthlyIncome                 0\n",
              "MonthlyRate                   0\n",
              "NumCompaniesWorked            0\n",
              "Over18                        0\n",
              "OverTime                      0\n",
              "PercentSalaryHike             0\n",
              "PerformanceRating             0\n",
              "RelationshipSatisfaction      0\n",
              "StandardHours                 0\n",
              "StockOptionLevel              0\n",
              "TotalWorkingYears             0\n",
              "TrainingTimesLastYear         0\n",
              "WorkLifeBalance               0\n",
              "YearsAtCompany                0\n",
              "YearsInCurrentRole            0\n",
              "YearsSinceLastPromotion       0\n",
              "YearsWithCurrManager          0\n",
              "dtype: int64"
            ]
          },
          "metadata": {},
          "execution_count": 10
        }
      ],
      "source": [
        "employee_df.isna().sum()"
      ]
    },
    {
      "cell_type": "markdown",
      "metadata": {
        "id": "KCOPsg4ExB7K"
      },
      "source": [
        "## Data Preparation / Preprocessing"
      ]
    },
    {
      "cell_type": "markdown",
      "metadata": {
        "id": "vlonOBnZUxFZ"
      },
      "source": [
        "### Handling Missing Value"
      ]
    },
    {
      "cell_type": "code",
      "execution_count": 11,
      "metadata": {
        "id": "FIw6yf7Q0uB0"
      },
      "outputs": [],
      "source": [
        "mode_value = employee_df['Attrition'].mode()[0]\n",
        "employee_df['Attrition'].fillna(mode_value, inplace=True)"
      ]
    },
    {
      "cell_type": "code",
      "execution_count": 12,
      "metadata": {
        "colab": {
          "base_uri": "https://localhost:8080/"
        },
        "id": "scrPe88WLzCD",
        "outputId": "af765821-6fa0-4724-ebe4-fdcc2ac1c7eb"
      },
      "outputs": [
        {
          "output_type": "execute_result",
          "data": {
            "text/plain": [
              "EmployeeId                  0\n",
              "Age                         0\n",
              "Attrition                   0\n",
              "BusinessTravel              0\n",
              "DailyRate                   0\n",
              "Department                  0\n",
              "DistanceFromHome            0\n",
              "Education                   0\n",
              "EducationField              0\n",
              "EmployeeCount               0\n",
              "EnvironmentSatisfaction     0\n",
              "Gender                      0\n",
              "HourlyRate                  0\n",
              "JobInvolvement              0\n",
              "JobLevel                    0\n",
              "JobRole                     0\n",
              "JobSatisfaction             0\n",
              "MaritalStatus               0\n",
              "MonthlyIncome               0\n",
              "MonthlyRate                 0\n",
              "NumCompaniesWorked          0\n",
              "Over18                      0\n",
              "OverTime                    0\n",
              "PercentSalaryHike           0\n",
              "PerformanceRating           0\n",
              "RelationshipSatisfaction    0\n",
              "StandardHours               0\n",
              "StockOptionLevel            0\n",
              "TotalWorkingYears           0\n",
              "TrainingTimesLastYear       0\n",
              "WorkLifeBalance             0\n",
              "YearsAtCompany              0\n",
              "YearsInCurrentRole          0\n",
              "YearsSinceLastPromotion     0\n",
              "YearsWithCurrManager        0\n",
              "dtype: int64"
            ]
          },
          "metadata": {},
          "execution_count": 12
        }
      ],
      "source": [
        "employee_df.isna().sum()"
      ]
    },
    {
      "cell_type": "markdown",
      "metadata": {
        "id": "t44htgZCVML9"
      },
      "source": [
        "### Feature Engineering"
      ]
    },
    {
      "cell_type": "code",
      "execution_count": 13,
      "metadata": {
        "id": "FEtArZV3O3CF"
      },
      "outputs": [],
      "source": [
        "employee_df['PerformanceSatisfactionIndex'] = employee_df[['EnvironmentSatisfaction', 'JobSatisfaction', 'RelationshipSatisfaction']].mean(axis=1)\n",
        "employee_df.drop(['EnvironmentSatisfaction', 'JobSatisfaction', 'RelationshipSatisfaction'],axis=1,inplace=True)"
      ]
    },
    {
      "cell_type": "code",
      "execution_count": 14,
      "metadata": {
        "id": "sgqAtTq8RHpY"
      },
      "outputs": [],
      "source": [
        "def satisfaction(score):\n",
        "    score = float(score)\n",
        "    if (score >= 1.00) and (score <= 1.99):\n",
        "        return 'Low'\n",
        "    elif (score >= 2.0) and (score <= 2.99):\n",
        "        return 'Medium'\n",
        "    elif (score >= 3.00) and (score <= 3.99):\n",
        "        return 'High'\n",
        "    else:\n",
        "        return 'Very High'\n",
        "\n",
        "employee_df['PerformanceSatisfactionIndex'] = employee_df['PerformanceSatisfactionIndex'].apply(satisfaction)"
      ]
    },
    {
      "cell_type": "code",
      "execution_count": 15,
      "metadata": {
        "id": "6lyAH7CzPDKI"
      },
      "outputs": [],
      "source": [
        "employee_df['ExperiencePriorToCurrentJob'] = employee_df['TotalWorkingYears'] - employee_df['YearsAtCompany']\n",
        "employee_df.drop(['TotalWorkingYears', 'YearsAtCompany'],axis=1,inplace=True)"
      ]
    },
    {
      "cell_type": "code",
      "execution_count": 16,
      "metadata": {
        "id": "qon0NMLsSF9a"
      },
      "outputs": [],
      "source": [
        "def experience(years):\n",
        "    if (years >= 0) and (years <= 5):\n",
        "        return 'Junior'\n",
        "    elif (years >= 6) and (years <= 10):\n",
        "        return 'Mid-level'\n",
        "    elif (years >= 11) and (years <= 20):\n",
        "        return 'Senior'\n",
        "    elif (years >= 21) and (years <= 30):\n",
        "        return 'Expert'\n",
        "    else:\n",
        "        return 'Veteran'\n",
        "\n",
        "employee_df['ExperiencePriorToCurrentJob'] = employee_df['ExperiencePriorToCurrentJob'].apply(experience)"
      ]
    },
    {
      "cell_type": "code",
      "execution_count": 17,
      "metadata": {
        "id": "bJPYlQ-MPOZ7"
      },
      "outputs": [],
      "source": [
        "employee_df['EmployeeEngagementScore'] = (employee_df['JobInvolvement'] + employee_df['PerformanceRating'] + employee_df['WorkLifeBalance']) / 3\n",
        "employee_df.drop(['JobInvolvement', 'PerformanceRating', 'WorkLifeBalance'],axis=1,inplace=True)"
      ]
    },
    {
      "cell_type": "code",
      "execution_count": 18,
      "metadata": {
        "id": "f0y3Z4c-OpoH"
      },
      "outputs": [],
      "source": [
        "def engagement(score):\n",
        "    score = float(score)\n",
        "    if (score >= 1.00) and (score <= 1.99):\n",
        "        return 'Bad'\n",
        "    elif (score >= 2.0) and (score <= 2.99):\n",
        "        return 'Good'\n",
        "    elif (score >= 3.00) and (score <= 3.99):\n",
        "        return 'Better'\n",
        "    else:\n",
        "        return 'Best'\n",
        "\n",
        "employee_df['EmployeeEngagementScore'] = employee_df['EmployeeEngagementScore'].apply(engagement)"
      ]
    },
    {
      "cell_type": "code",
      "execution_count": 19,
      "metadata": {
        "id": "6Uo3Nj-OSKre"
      },
      "outputs": [],
      "source": [
        "def distance_category(distance):\n",
        "    if (distance >= 1) & (distance <= 10):\n",
        "        return 'Short Distance'\n",
        "    elif (distance >= 11) & (distance <= 20):\n",
        "        return 'Medium Distance'\n",
        "    else:\n",
        "        return 'Long Distance'\n",
        "\n",
        "employee_df['DistanceFromHomeCategory'] = employee_df['DistanceFromHome'].apply(distance_category)\n",
        "employee_df.drop(['DistanceFromHome'],axis=1,inplace=True)"
      ]
    },
    {
      "cell_type": "code",
      "execution_count": 20,
      "metadata": {
        "id": "NjZfUyetSh_V"
      },
      "outputs": [],
      "source": [
        "def generation(age):\n",
        "    if (age >= 61) & (age <= 70):\n",
        "        return 'Baby Boomers'\n",
        "    elif (age >= 51) & (age <= 60):\n",
        "        return 'Gen X'\n",
        "    elif (age >= 41) & (age <= 50):\n",
        "        return 'Gen Y'\n",
        "    elif (age >= 31 ) & (age <= 40):\n",
        "        return 'Millennials'\n",
        "    else:\n",
        "        return 'Gen Z'\n",
        "\n",
        "employee_df['AgeGeneration'] = employee_df['Age'].apply(generation)\n",
        "employee_df.drop(['Age'],axis=1,inplace=True)"
      ]
    },
    {
      "cell_type": "code",
      "execution_count": 21,
      "metadata": {
        "id": "so5D3kVmPgGv"
      },
      "outputs": [],
      "source": [
        "# Mapping\n",
        "education_map = {\n",
        "    1: 'Below College',\n",
        "    2: 'College',\n",
        "    3: 'Bachelor',\n",
        "    4: 'Master',\n",
        "    5: 'Doctor'\n",
        "}\n",
        "employee_df['Education'] = employee_df['Education'].map(education_map)\n",
        "\n",
        "job_level_mapping = {\n",
        "    1: 'Staff',\n",
        "    2: 'Junior Supervisor',\n",
        "    3: 'Senior Supervisor',\n",
        "    4: 'Junior Manager',\n",
        "    5: 'Senior Manager'\n",
        "}\n",
        "employee_df['JobLevel'] = employee_df['JobLevel'].map(job_level_mapping)"
      ]
    },
    {
      "cell_type": "code",
      "execution_count": 22,
      "metadata": {
        "colab": {
          "base_uri": "https://localhost:8080/"
        },
        "id": "jbMBdgnMUFpB",
        "outputId": "08a8c902-9dc8-424e-ebc2-9408ac35493b"
      },
      "outputs": [
        {
          "output_type": "execute_result",
          "data": {
            "text/plain": [
              "AgeGeneration                    object\n",
              "Attrition                       float64\n",
              "BusinessTravel                   object\n",
              "DailyRate                         int64\n",
              "Department                       object\n",
              "DistanceFromHomeCategory         object\n",
              "Education                        object\n",
              "EducationField                   object\n",
              "EmployeeEngagementScore          object\n",
              "EmployeeId                        int64\n",
              "ExperiencePriorToCurrentJob      object\n",
              "Gender                           object\n",
              "HourlyRate                        int64\n",
              "JobLevel                         object\n",
              "JobRole                          object\n",
              "MaritalStatus                    object\n",
              "MonthlyIncome                     int64\n",
              "MonthlyRate                       int64\n",
              "NumCompaniesWorked                int64\n",
              "OverTime                         object\n",
              "PercentSalaryHike                 int64\n",
              "PerformanceSatisfactionIndex     object\n",
              "StockOptionLevel                  int64\n",
              "TrainingTimesLastYear             int64\n",
              "YearsInCurrentRole                int64\n",
              "YearsSinceLastPromotion           int64\n",
              "YearsWithCurrManager              int64\n",
              "dtype: object"
            ]
          },
          "metadata": {},
          "execution_count": 22
        }
      ],
      "source": [
        "employee_df.drop(['StandardHours','EmployeeCount', 'Over18'],axis=1,inplace=True)\n",
        "\n",
        "employee_df = employee_df.reindex(sorted(employee_df.columns), axis=1)\n",
        "employee_df.dtypes"
      ]
    },
    {
      "cell_type": "code",
      "execution_count": 23,
      "metadata": {
        "colab": {
          "base_uri": "https://localhost:8080/",
          "height": 325
        },
        "id": "9BeszGTzXao7",
        "outputId": "f12f044a-78cd-46f6-92a0-76b8b9ee9f6e"
      },
      "outputs": [
        {
          "output_type": "execute_result",
          "data": {
            "text/plain": [
              "  AgeGeneration  Attrition     BusinessTravel  DailyRate  \\\n",
              "0   Millennials        0.0  Travel_Frequently       1444   \n",
              "1   Millennials        1.0      Travel_Rarely       1141   \n",
              "2         Gen X        1.0      Travel_Rarely       1323   \n",
              "3         Gen Y        0.0  Travel_Frequently        555   \n",
              "4   Millennials        0.0      Travel_Rarely       1194   \n",
              "\n",
              "               Department DistanceFromHomeCategory Education EducationField  \\\n",
              "0         Human Resources           Short Distance    Master          Other   \n",
              "1  Research & Development          Medium Distance   College        Medical   \n",
              "2  Research & Development           Short Distance    Master  Life Sciences   \n",
              "3                   Sales            Long Distance  Bachelor      Marketing   \n",
              "4  Research & Development           Short Distance    Master        Medical   \n",
              "\n",
              "  EmployeeEngagementScore  EmployeeId  ... MonthlyRate NumCompaniesWorked  \\\n",
              "0                  Better           1  ...        5224                  0   \n",
              "1                     Bad           2  ...       14382                  5   \n",
              "2                  Better           3  ...       10332                  9   \n",
              "3                  Better           4  ...       14864                  5   \n",
              "4                  Better           5  ...       12549                  2   \n",
              "\n",
              "   OverTime PercentSalaryHike PerformanceSatisfactionIndex StockOptionLevel  \\\n",
              "0       Yes                11                       Medium                1   \n",
              "1        No                15                          Low                0   \n",
              "2       Yes                12                       Medium                3   \n",
              "3        No                14                         High                1   \n",
              "4        No                14                       Medium                3   \n",
              "\n",
              "   TrainingTimesLastYear  YearsInCurrentRole  YearsSinceLastPromotion  \\\n",
              "0                      2                   2                        1   \n",
              "1                      2                   0                        0   \n",
              "2                      2                   0                        2   \n",
              "3                      2                   4                        4   \n",
              "4                      2                   3                        0   \n",
              "\n",
              "  YearsWithCurrManager  \n",
              "0                    2  \n",
              "1                    0  \n",
              "2                    7  \n",
              "3                    8  \n",
              "4                    2  \n",
              "\n",
              "[5 rows x 27 columns]"
            ],
            "text/html": [
              "\n",
              "  <div id=\"df-6c31d83d-40a5-46f8-aa67-c1441579e051\" class=\"colab-df-container\">\n",
              "    <div>\n",
              "<style scoped>\n",
              "    .dataframe tbody tr th:only-of-type {\n",
              "        vertical-align: middle;\n",
              "    }\n",
              "\n",
              "    .dataframe tbody tr th {\n",
              "        vertical-align: top;\n",
              "    }\n",
              "\n",
              "    .dataframe thead th {\n",
              "        text-align: right;\n",
              "    }\n",
              "</style>\n",
              "<table border=\"1\" class=\"dataframe\">\n",
              "  <thead>\n",
              "    <tr style=\"text-align: right;\">\n",
              "      <th></th>\n",
              "      <th>AgeGeneration</th>\n",
              "      <th>Attrition</th>\n",
              "      <th>BusinessTravel</th>\n",
              "      <th>DailyRate</th>\n",
              "      <th>Department</th>\n",
              "      <th>DistanceFromHomeCategory</th>\n",
              "      <th>Education</th>\n",
              "      <th>EducationField</th>\n",
              "      <th>EmployeeEngagementScore</th>\n",
              "      <th>EmployeeId</th>\n",
              "      <th>...</th>\n",
              "      <th>MonthlyRate</th>\n",
              "      <th>NumCompaniesWorked</th>\n",
              "      <th>OverTime</th>\n",
              "      <th>PercentSalaryHike</th>\n",
              "      <th>PerformanceSatisfactionIndex</th>\n",
              "      <th>StockOptionLevel</th>\n",
              "      <th>TrainingTimesLastYear</th>\n",
              "      <th>YearsInCurrentRole</th>\n",
              "      <th>YearsSinceLastPromotion</th>\n",
              "      <th>YearsWithCurrManager</th>\n",
              "    </tr>\n",
              "  </thead>\n",
              "  <tbody>\n",
              "    <tr>\n",
              "      <th>0</th>\n",
              "      <td>Millennials</td>\n",
              "      <td>0.0</td>\n",
              "      <td>Travel_Frequently</td>\n",
              "      <td>1444</td>\n",
              "      <td>Human Resources</td>\n",
              "      <td>Short Distance</td>\n",
              "      <td>Master</td>\n",
              "      <td>Other</td>\n",
              "      <td>Better</td>\n",
              "      <td>1</td>\n",
              "      <td>...</td>\n",
              "      <td>5224</td>\n",
              "      <td>0</td>\n",
              "      <td>Yes</td>\n",
              "      <td>11</td>\n",
              "      <td>Medium</td>\n",
              "      <td>1</td>\n",
              "      <td>2</td>\n",
              "      <td>2</td>\n",
              "      <td>1</td>\n",
              "      <td>2</td>\n",
              "    </tr>\n",
              "    <tr>\n",
              "      <th>1</th>\n",
              "      <td>Millennials</td>\n",
              "      <td>1.0</td>\n",
              "      <td>Travel_Rarely</td>\n",
              "      <td>1141</td>\n",
              "      <td>Research &amp; Development</td>\n",
              "      <td>Medium Distance</td>\n",
              "      <td>College</td>\n",
              "      <td>Medical</td>\n",
              "      <td>Bad</td>\n",
              "      <td>2</td>\n",
              "      <td>...</td>\n",
              "      <td>14382</td>\n",
              "      <td>5</td>\n",
              "      <td>No</td>\n",
              "      <td>15</td>\n",
              "      <td>Low</td>\n",
              "      <td>0</td>\n",
              "      <td>2</td>\n",
              "      <td>0</td>\n",
              "      <td>0</td>\n",
              "      <td>0</td>\n",
              "    </tr>\n",
              "    <tr>\n",
              "      <th>2</th>\n",
              "      <td>Gen X</td>\n",
              "      <td>1.0</td>\n",
              "      <td>Travel_Rarely</td>\n",
              "      <td>1323</td>\n",
              "      <td>Research &amp; Development</td>\n",
              "      <td>Short Distance</td>\n",
              "      <td>Master</td>\n",
              "      <td>Life Sciences</td>\n",
              "      <td>Better</td>\n",
              "      <td>3</td>\n",
              "      <td>...</td>\n",
              "      <td>10332</td>\n",
              "      <td>9</td>\n",
              "      <td>Yes</td>\n",
              "      <td>12</td>\n",
              "      <td>Medium</td>\n",
              "      <td>3</td>\n",
              "      <td>2</td>\n",
              "      <td>0</td>\n",
              "      <td>2</td>\n",
              "      <td>7</td>\n",
              "    </tr>\n",
              "    <tr>\n",
              "      <th>3</th>\n",
              "      <td>Gen Y</td>\n",
              "      <td>0.0</td>\n",
              "      <td>Travel_Frequently</td>\n",
              "      <td>555</td>\n",
              "      <td>Sales</td>\n",
              "      <td>Long Distance</td>\n",
              "      <td>Bachelor</td>\n",
              "      <td>Marketing</td>\n",
              "      <td>Better</td>\n",
              "      <td>4</td>\n",
              "      <td>...</td>\n",
              "      <td>14864</td>\n",
              "      <td>5</td>\n",
              "      <td>No</td>\n",
              "      <td>14</td>\n",
              "      <td>High</td>\n",
              "      <td>1</td>\n",
              "      <td>2</td>\n",
              "      <td>4</td>\n",
              "      <td>4</td>\n",
              "      <td>8</td>\n",
              "    </tr>\n",
              "    <tr>\n",
              "      <th>4</th>\n",
              "      <td>Millennials</td>\n",
              "      <td>0.0</td>\n",
              "      <td>Travel_Rarely</td>\n",
              "      <td>1194</td>\n",
              "      <td>Research &amp; Development</td>\n",
              "      <td>Short Distance</td>\n",
              "      <td>Master</td>\n",
              "      <td>Medical</td>\n",
              "      <td>Better</td>\n",
              "      <td>5</td>\n",
              "      <td>...</td>\n",
              "      <td>12549</td>\n",
              "      <td>2</td>\n",
              "      <td>No</td>\n",
              "      <td>14</td>\n",
              "      <td>Medium</td>\n",
              "      <td>3</td>\n",
              "      <td>2</td>\n",
              "      <td>3</td>\n",
              "      <td>0</td>\n",
              "      <td>2</td>\n",
              "    </tr>\n",
              "  </tbody>\n",
              "</table>\n",
              "<p>5 rows × 27 columns</p>\n",
              "</div>\n",
              "    <div class=\"colab-df-buttons\">\n",
              "\n",
              "  <div class=\"colab-df-container\">\n",
              "    <button class=\"colab-df-convert\" onclick=\"convertToInteractive('df-6c31d83d-40a5-46f8-aa67-c1441579e051')\"\n",
              "            title=\"Convert this dataframe to an interactive table.\"\n",
              "            style=\"display:none;\">\n",
              "\n",
              "  <svg xmlns=\"http://www.w3.org/2000/svg\" height=\"24px\" viewBox=\"0 -960 960 960\">\n",
              "    <path d=\"M120-120v-720h720v720H120Zm60-500h600v-160H180v160Zm220 220h160v-160H400v160Zm0 220h160v-160H400v160ZM180-400h160v-160H180v160Zm440 0h160v-160H620v160ZM180-180h160v-160H180v160Zm440 0h160v-160H620v160Z\"/>\n",
              "  </svg>\n",
              "    </button>\n",
              "\n",
              "  <style>\n",
              "    .colab-df-container {\n",
              "      display:flex;\n",
              "      gap: 12px;\n",
              "    }\n",
              "\n",
              "    .colab-df-convert {\n",
              "      background-color: #E8F0FE;\n",
              "      border: none;\n",
              "      border-radius: 50%;\n",
              "      cursor: pointer;\n",
              "      display: none;\n",
              "      fill: #1967D2;\n",
              "      height: 32px;\n",
              "      padding: 0 0 0 0;\n",
              "      width: 32px;\n",
              "    }\n",
              "\n",
              "    .colab-df-convert:hover {\n",
              "      background-color: #E2EBFA;\n",
              "      box-shadow: 0px 1px 2px rgba(60, 64, 67, 0.3), 0px 1px 3px 1px rgba(60, 64, 67, 0.15);\n",
              "      fill: #174EA6;\n",
              "    }\n",
              "\n",
              "    .colab-df-buttons div {\n",
              "      margin-bottom: 4px;\n",
              "    }\n",
              "\n",
              "    [theme=dark] .colab-df-convert {\n",
              "      background-color: #3B4455;\n",
              "      fill: #D2E3FC;\n",
              "    }\n",
              "\n",
              "    [theme=dark] .colab-df-convert:hover {\n",
              "      background-color: #434B5C;\n",
              "      box-shadow: 0px 1px 3px 1px rgba(0, 0, 0, 0.15);\n",
              "      filter: drop-shadow(0px 1px 2px rgba(0, 0, 0, 0.3));\n",
              "      fill: #FFFFFF;\n",
              "    }\n",
              "  </style>\n",
              "\n",
              "    <script>\n",
              "      const buttonEl =\n",
              "        document.querySelector('#df-6c31d83d-40a5-46f8-aa67-c1441579e051 button.colab-df-convert');\n",
              "      buttonEl.style.display =\n",
              "        google.colab.kernel.accessAllowed ? 'block' : 'none';\n",
              "\n",
              "      async function convertToInteractive(key) {\n",
              "        const element = document.querySelector('#df-6c31d83d-40a5-46f8-aa67-c1441579e051');\n",
              "        const dataTable =\n",
              "          await google.colab.kernel.invokeFunction('convertToInteractive',\n",
              "                                                    [key], {});\n",
              "        if (!dataTable) return;\n",
              "\n",
              "        const docLinkHtml = 'Like what you see? Visit the ' +\n",
              "          '<a target=\"_blank\" href=https://colab.research.google.com/notebooks/data_table.ipynb>data table notebook</a>'\n",
              "          + ' to learn more about interactive tables.';\n",
              "        element.innerHTML = '';\n",
              "        dataTable['output_type'] = 'display_data';\n",
              "        await google.colab.output.renderOutput(dataTable, element);\n",
              "        const docLink = document.createElement('div');\n",
              "        docLink.innerHTML = docLinkHtml;\n",
              "        element.appendChild(docLink);\n",
              "      }\n",
              "    </script>\n",
              "  </div>\n",
              "\n",
              "\n",
              "<div id=\"df-a8045c21-feed-40d5-a6f3-258b955c3fdf\">\n",
              "  <button class=\"colab-df-quickchart\" onclick=\"quickchart('df-a8045c21-feed-40d5-a6f3-258b955c3fdf')\"\n",
              "            title=\"Suggest charts\"\n",
              "            style=\"display:none;\">\n",
              "\n",
              "<svg xmlns=\"http://www.w3.org/2000/svg\" height=\"24px\"viewBox=\"0 0 24 24\"\n",
              "     width=\"24px\">\n",
              "    <g>\n",
              "        <path d=\"M19 3H5c-1.1 0-2 .9-2 2v14c0 1.1.9 2 2 2h14c1.1 0 2-.9 2-2V5c0-1.1-.9-2-2-2zM9 17H7v-7h2v7zm4 0h-2V7h2v10zm4 0h-2v-4h2v4z\"/>\n",
              "    </g>\n",
              "</svg>\n",
              "  </button>\n",
              "\n",
              "<style>\n",
              "  .colab-df-quickchart {\n",
              "      --bg-color: #E8F0FE;\n",
              "      --fill-color: #1967D2;\n",
              "      --hover-bg-color: #E2EBFA;\n",
              "      --hover-fill-color: #174EA6;\n",
              "      --disabled-fill-color: #AAA;\n",
              "      --disabled-bg-color: #DDD;\n",
              "  }\n",
              "\n",
              "  [theme=dark] .colab-df-quickchart {\n",
              "      --bg-color: #3B4455;\n",
              "      --fill-color: #D2E3FC;\n",
              "      --hover-bg-color: #434B5C;\n",
              "      --hover-fill-color: #FFFFFF;\n",
              "      --disabled-bg-color: #3B4455;\n",
              "      --disabled-fill-color: #666;\n",
              "  }\n",
              "\n",
              "  .colab-df-quickchart {\n",
              "    background-color: var(--bg-color);\n",
              "    border: none;\n",
              "    border-radius: 50%;\n",
              "    cursor: pointer;\n",
              "    display: none;\n",
              "    fill: var(--fill-color);\n",
              "    height: 32px;\n",
              "    padding: 0;\n",
              "    width: 32px;\n",
              "  }\n",
              "\n",
              "  .colab-df-quickchart:hover {\n",
              "    background-color: var(--hover-bg-color);\n",
              "    box-shadow: 0 1px 2px rgba(60, 64, 67, 0.3), 0 1px 3px 1px rgba(60, 64, 67, 0.15);\n",
              "    fill: var(--button-hover-fill-color);\n",
              "  }\n",
              "\n",
              "  .colab-df-quickchart-complete:disabled,\n",
              "  .colab-df-quickchart-complete:disabled:hover {\n",
              "    background-color: var(--disabled-bg-color);\n",
              "    fill: var(--disabled-fill-color);\n",
              "    box-shadow: none;\n",
              "  }\n",
              "\n",
              "  .colab-df-spinner {\n",
              "    border: 2px solid var(--fill-color);\n",
              "    border-color: transparent;\n",
              "    border-bottom-color: var(--fill-color);\n",
              "    animation:\n",
              "      spin 1s steps(1) infinite;\n",
              "  }\n",
              "\n",
              "  @keyframes spin {\n",
              "    0% {\n",
              "      border-color: transparent;\n",
              "      border-bottom-color: var(--fill-color);\n",
              "      border-left-color: var(--fill-color);\n",
              "    }\n",
              "    20% {\n",
              "      border-color: transparent;\n",
              "      border-left-color: var(--fill-color);\n",
              "      border-top-color: var(--fill-color);\n",
              "    }\n",
              "    30% {\n",
              "      border-color: transparent;\n",
              "      border-left-color: var(--fill-color);\n",
              "      border-top-color: var(--fill-color);\n",
              "      border-right-color: var(--fill-color);\n",
              "    }\n",
              "    40% {\n",
              "      border-color: transparent;\n",
              "      border-right-color: var(--fill-color);\n",
              "      border-top-color: var(--fill-color);\n",
              "    }\n",
              "    60% {\n",
              "      border-color: transparent;\n",
              "      border-right-color: var(--fill-color);\n",
              "    }\n",
              "    80% {\n",
              "      border-color: transparent;\n",
              "      border-right-color: var(--fill-color);\n",
              "      border-bottom-color: var(--fill-color);\n",
              "    }\n",
              "    90% {\n",
              "      border-color: transparent;\n",
              "      border-bottom-color: var(--fill-color);\n",
              "    }\n",
              "  }\n",
              "</style>\n",
              "\n",
              "  <script>\n",
              "    async function quickchart(key) {\n",
              "      const quickchartButtonEl =\n",
              "        document.querySelector('#' + key + ' button');\n",
              "      quickchartButtonEl.disabled = true;  // To prevent multiple clicks.\n",
              "      quickchartButtonEl.classList.add('colab-df-spinner');\n",
              "      try {\n",
              "        const charts = await google.colab.kernel.invokeFunction(\n",
              "            'suggestCharts', [key], {});\n",
              "      } catch (error) {\n",
              "        console.error('Error during call to suggestCharts:', error);\n",
              "      }\n",
              "      quickchartButtonEl.classList.remove('colab-df-spinner');\n",
              "      quickchartButtonEl.classList.add('colab-df-quickchart-complete');\n",
              "    }\n",
              "    (() => {\n",
              "      let quickchartButtonEl =\n",
              "        document.querySelector('#df-a8045c21-feed-40d5-a6f3-258b955c3fdf button');\n",
              "      quickchartButtonEl.style.display =\n",
              "        google.colab.kernel.accessAllowed ? 'block' : 'none';\n",
              "    })();\n",
              "  </script>\n",
              "</div>\n",
              "    </div>\n",
              "  </div>\n"
            ],
            "application/vnd.google.colaboratory.intrinsic+json": {
              "type": "dataframe",
              "variable_name": "employee_df"
            }
          },
          "metadata": {},
          "execution_count": 23
        }
      ],
      "source": [
        "employee_df.head()"
      ]
    },
    {
      "cell_type": "markdown",
      "metadata": {
        "id": "IUCgf-H_a8Vd"
      },
      "source": [
        "### Exploratory Data Analysis"
      ]
    },
    {
      "cell_type": "code",
      "execution_count": 24,
      "metadata": {
        "colab": {
          "base_uri": "https://localhost:8080/"
        },
        "id": "XkxOTw8LbCkH",
        "outputId": "6e9fd176-8a17-4e13-af13-970a54d8b65a"
      },
      "outputs": [
        {
          "output_type": "execute_result",
          "data": {
            "text/plain": [
              "0    1291\n",
              "1     179\n",
              "Name: Attrition, dtype: int64"
            ]
          },
          "metadata": {},
          "execution_count": 24
        }
      ],
      "source": [
        "employee_df['Attrition'] = employee_df['Attrition'].factorize(['No','Yes'])[0]\n",
        "employee_df['Attrition'].value_counts()"
      ]
    },
    {
      "cell_type": "code",
      "source": [
        "employee_df.to_csv('employee_clean.csv', index=False)"
      ],
      "metadata": {
        "id": "3iEwLBgAsSRH"
      },
      "execution_count": 25,
      "outputs": []
    },
    {
      "cell_type": "code",
      "execution_count": 26,
      "metadata": {
        "colab": {
          "base_uri": "https://localhost:8080/",
          "height": 468
        },
        "id": "yH09kr6PbIn3",
        "outputId": "6cc19d81-4f1f-45c6-879f-f3a73fccaa15"
      },
      "outputs": [
        {
          "output_type": "display_data",
          "data": {
            "text/plain": [
              "<Figure size 800x500 with 1 Axes>"
            ],
            "image/png": "[encoded data removed]"
          },
          "metadata": {}
        }
      ],
      "source": [
        "attrition = employee_df[employee_df['Attrition'] == 1]\n",
        "no_attrition = employee_df[employee_df['Attrition'] == 0]\n",
        "\n",
        "attrition_count = len(attrition)\n",
        "no_attrition_count = len(no_attrition)\n",
        "\n",
        "categories = ['Yes_attrition', 'No_attrition']\n",
        "counts = [attrition_count, no_attrition_count]\n",
        "\n",
        "plt.figure(figsize=(8, 5))\n",
        "sns.barplot(x=counts, y=categories, hue=categories, palette=['pink', 'lightblue'], dodge=False, legend=False)\n",
        "\n",
        "plt.title('Count of attrition variable')\n",
        "plt.show()"
      ]
    },
    {
      "cell_type": "code",
      "execution_count": 27,
      "metadata": {
        "colab": {
          "base_uri": "https://localhost:8080/",
          "height": 675
        },
        "id": "crg0xLggbP3r",
        "outputId": "e0d83d0b-1617-4826-eaea-921b3e46355a"
      },
      "outputs": [
        {
          "output_type": "display_data",
          "data": {
            "text/plain": [
              "<Figure size 800x800 with 1 Axes>"
            ],
            "image/png": "[encoded data removed]"
          },
          "metadata": {}
        }
      ],
      "source": [
        "plt.figure(figsize=(8, 8))\n",
        "\n",
        "attrition_counts = employee_df['Attrition'].value_counts()\n",
        "labels = attrition_counts.index\n",
        "sizes = attrition_counts.values\n",
        "colors = ['lightblue', 'pink']\n",
        "\n",
        "plt.pie(sizes, colors=colors, autopct='%1.1f%%', startangle=140, labeldistance=0.7)\n",
        "plt.axis('equal')\n",
        "plt.legend(labels, loc=\"best\")\n",
        "\n",
        "plt.title('Distribution of attrition variable')\n",
        "plt.show()"
      ]
    },
    {
      "cell_type": "code",
      "execution_count": 28,
      "metadata": {
        "colab": {
          "base_uri": "https://localhost:8080/",
          "height": 1000
        },
        "id": "waBUcuIXXKnU",
        "outputId": "45a47980-b67f-4623-8f4c-44e4cdd560f0"
      },
      "outputs": [
        {
          "output_type": "display_data",
          "data": {
            "text/plain": [
              "<Figure size 1500x1500 with 6 Axes>"
            ],
            "image/png": "[encoded data removed]"
          },
          "metadata": {}
        }
      ],
      "source": [
        "# Define color palette\n",
        "colors = ['lightblue', 'pink']\n",
        "\n",
        "# Create subplots\n",
        "fig, axes = plt.subplots(nrows=3, ncols=2, figsize=(15, 15))\n",
        "\n",
        "# Plot Attrition by Age Generation\n",
        "sns.countplot(x='AgeGeneration', hue='Attrition', data=employee_df, palette=colors, ax=axes[0, 0])\n",
        "axes[0, 0].set_title('Attrition by Age Generation')\n",
        "axes[0, 0].set_xlabel('Age Generation')\n",
        "axes[0, 0].set_ylabel('Count')\n",
        "axes[0, 0].legend(title='Attrition', loc='upper right', labels=['No', 'Yes'])\n",
        "for p in axes[0, 0].patches:\n",
        "    if p.get_height() > 0:\n",
        "        axes[0, 0].annotate(str(int(p.get_height())), (p.get_x() + p.get_width() / 2., p.get_height()), ha='center', va='center', xytext=(0, 8), textcoords='offset points')\n",
        "\n",
        "# Plot Attrition by Gender\n",
        "sns.countplot(x='Gender', hue='Attrition', data=employee_df, palette=colors, ax=axes[0, 1])\n",
        "axes[0, 1].set_title('Attrition by Gender')\n",
        "axes[0, 1].set_xlabel('Gender')\n",
        "axes[0, 1].set_ylabel('Count')\n",
        "axes[0, 1].legend(title='Attrition', loc='upper right', labels=['No', 'Yes'])\n",
        "for p in axes[0, 1].patches:\n",
        "    if p.get_height() > 0:\n",
        "        axes[0, 1].annotate(str(int(p.get_height())), (p.get_x() + p.get_width() / 2., p.get_height()), ha='center', va='center', xytext=(0, 8), textcoords='offset points')\n",
        "\n",
        "# Plot Attrition by Business Travel\n",
        "sns.countplot(x='BusinessTravel', hue='Attrition', data=employee_df, palette=colors, ax=axes[1, 0])\n",
        "axes[1, 0].set_title('Attrition by Business Travel')\n",
        "axes[1, 0].set_xlabel('Business Travel')\n",
        "axes[1, 0].set_ylabel('Count')\n",
        "axes[1, 0].legend(title='Attrition', loc='upper right', labels=['No', 'Yes'])\n",
        "for p in axes[1, 0].patches:\n",
        "    if p.get_height() > 0:\n",
        "        axes[1, 0].annotate(str(int(p.get_height())), (p.get_x() + p.get_width() / 2., p.get_height()), ha='center', va='center', xytext=(0, 8), textcoords='offset points')\n",
        "\n",
        "# Plot Attrition by Distance From Home\n",
        "sns.countplot(x='DistanceFromHomeCategory', hue='Attrition', data=employee_df, palette=colors, ax=axes[1, 1])\n",
        "axes[1, 1].set_title('Attrition by Distance From Home')\n",
        "axes[1, 1].set_xlabel('Distance From Home')\n",
        "axes[1, 1].set_ylabel('Count')\n",
        "axes[1, 1].legend(title='Attrition', loc='upper right', labels=['No', 'Yes'])\n",
        "for p in axes[1, 1].patches:\n",
        "    if p.get_height() > 0:\n",
        "        axes[1, 1].annotate(str(int(p.get_height())), (p.get_x() + p.get_width() / 2., p.get_height()), ha='center', va='center', xytext=(0, 8), textcoords='offset points')\n",
        "\n",
        "# Plot Attrition by Education\n",
        "sns.countplot(x='Education', hue='Attrition', data=employee_df, palette=colors, ax=axes[2, 0])\n",
        "axes[2, 0].set_title('Attrition by Education')\n",
        "axes[2, 0].set_xlabel('Education Stage')\n",
        "axes[2, 0].set_ylabel('Count')\n",
        "axes[2, 0].legend(title='Attrition', loc='upper right', labels=['No', 'Yes'])\n",
        "for p in axes[2, 0].patches:\n",
        "    if p.get_height() > 0:\n",
        "        axes[2, 0].annotate(str(int(p.get_height())), (p.get_x() + p.get_width() / 2., p.get_height()), ha='center', va='center', xytext=(0, 8), textcoords='offset points')\n",
        "\n",
        "# Plot Attrition by Department\n",
        "sns.countplot(x='Department', hue='Attrition', data=employee_df, palette=colors, ax=axes[2, 1])\n",
        "axes[2, 1].set_title('Attrition by Department')\n",
        "axes[2, 1].set_xlabel('Department')\n",
        "axes[2, 1].set_ylabel('Count')\n",
        "axes[2, 1].legend(title='Attrition', loc='upper right', labels=['No', 'Yes'])\n",
        "for p in axes[2, 1].patches:\n",
        "    if p.get_height() > 0:\n",
        "        axes[2, 1].annotate(str(int(p.get_height())), (p.get_x() + p.get_width() / 2., p.get_height()), ha='center', va='center', xytext=(0, 8), textcoords='offset points')\n",
        "\n",
        "# Adjust layout\n",
        "plt.tight_layout()\n",
        "plt.show()"
      ]
    },
    {
      "cell_type": "code",
      "execution_count": 29,
      "metadata": {
        "colab": {
          "base_uri": "https://localhost:8080/",
          "height": 1000
        },
        "id": "mAAl0VWhdaCz",
        "outputId": "a2e913c3-bb20-41b6-9918-d6e29847ea19"
      },
      "outputs": [
        {
          "output_type": "display_data",
          "data": {
            "text/plain": [
              "<Figure size 1500x1500 with 6 Axes>"
            ],
            "image/png": "[encoded data removed]"
          },
          "metadata": {}
        }
      ],
      "source": [
        "# Define color palette\n",
        "colors = ['lightblue', 'pink']\n",
        "\n",
        "# Create subplots\n",
        "fig, axes = plt.subplots(nrows=3, ncols=2, figsize=(15, 15))\n",
        "\n",
        "# Plot Attrition by Job Level\n",
        "sns.countplot(x='JobLevel', hue='Attrition', data=employee_df, palette=colors, ax=axes[0, 0])\n",
        "axes[0, 0].set_title('Attrition by Job Level')\n",
        "axes[0, 0].set_xlabel('Job Level')\n",
        "axes[0, 0].set_ylabel('Count')\n",
        "for p in axes[0, 0].patches:\n",
        "    if p.get_height() > 0:\n",
        "        axes[0, 0].annotate(str(int(p.get_height())), (p.get_x() + p.get_width() / 2., p.get_height()), ha='center', va='center', xytext=(0, 8), textcoords='offset points')\n",
        "\n",
        "# Plot Attrition by Employee Engagement Score\n",
        "sns.countplot(x='EmployeeEngagementScore', hue='Attrition', data=employee_df, palette=colors, ax=axes[0, 1])\n",
        "axes[0, 1].set_title('Attrition by Employee Engagement Score')\n",
        "axes[0, 1].set_xlabel('Employee Engagement')\n",
        "axes[0, 1].set_ylabel('Count')\n",
        "for p in axes[0, 1].patches:\n",
        "    if p.get_height() > 0:\n",
        "        axes[0, 1].annotate(str(int(p.get_height())), (p.get_x() + p.get_width() / 2., p.get_height()), ha='center', va='center', xytext=(0, 8), textcoords='offset points')\n",
        "\n",
        "# Plot Attrition by Employee Performance Satisfaction Index\n",
        "sns.countplot(x='PerformanceSatisfactionIndex', hue='Attrition', data=employee_df, palette=colors, ax=axes[1, 0])\n",
        "axes[1, 0].set_title('Attrition by Employee Performance Satisfaction Index')\n",
        "axes[1, 0].set_xlabel('Employee Satisfaction')\n",
        "axes[1, 0].set_ylabel('Count')\n",
        "for p in axes[1, 0].patches:\n",
        "    if p.get_height() > 0:\n",
        "        axes[1, 0].annotate(str(int(p.get_height())), (p.get_x() + p.get_width() / 2., p.get_height()), ha='center', va='center', xytext=(0, 8), textcoords='offset points')\n",
        "\n",
        "# Plot Attrition by Employee Prior Experience\n",
        "sns.countplot(x='ExperiencePriorToCurrentJob', hue='Attrition', data=employee_df, palette=colors, ax=axes[1, 1])\n",
        "axes[1, 1].set_title('Attrition by Employee Prior Experience')\n",
        "axes[1, 1].set_xlabel('Employee Prior Experience')\n",
        "axes[1, 1].set_ylabel('Count')\n",
        "for p in axes[1, 1].patches:\n",
        "    if p.get_height() > 0:\n",
        "        axes[1, 1].annotate(str(int(p.get_height())), (p.get_x() + p.get_width() / 2., p.get_height()), ha='center', va='center', xytext=(0, 8), textcoords='offset points')\n",
        "\n",
        "# Plot Attrition by Percent Salary Hike\n",
        "sns.countplot(x='PercentSalaryHike', hue='Attrition', data=employee_df, palette=colors, ax=axes[2, 0])\n",
        "axes[2, 0].set_title('Attrition by Increase of Salary (Percentage)')\n",
        "axes[2, 0].set_xlabel('Increase of Salary (Percentage)')\n",
        "axes[2, 0].set_ylabel('Count')\n",
        "for p in axes[2, 0].patches:\n",
        "    if p.get_height() > 0:\n",
        "        axes[2, 0].annotate(str(int(p.get_height())), (p.get_x() + p.get_width() / 2., p.get_height()), ha='center', va='center', xytext=(0, 8), textcoords='offset points')\n",
        "\n",
        "# Plot Attrition by Years Since Last Promotion\n",
        "sns.countplot(x='YearsSinceLastPromotion', hue='Attrition', data=employee_df, palette=colors, ax=axes[2, 1])\n",
        "axes[2, 1].set_title('Attrition by Last Promotion (Years)')\n",
        "axes[2, 1].set_xlabel('Last Promotion (Years)')\n",
        "axes[2, 1].set_ylabel('Count')\n",
        "for p in axes[2, 1].patches:\n",
        "    if p.get_height() > 0:\n",
        "        axes[2, 1].annotate(str(int(p.get_height())), (p.get_x() + p.get_width() / 2., p.get_height()), ha='center', va='center', xytext=(0, 8), textcoords='offset points')\n",
        "\n",
        "\n",
        "# Adjust layout\n",
        "plt.tight_layout()\n",
        "plt.show()"
      ]
    },
    {
      "cell_type": "markdown",
      "metadata": {
        "id": "lnopJ-vZxB7K"
      },
      "source": [
        "## Modeling"
      ]
    },
    {
      "cell_type": "code",
      "execution_count": 30,
      "metadata": {
        "colab": {
          "base_uri": "https://localhost:8080/",
          "height": 313
        },
        "id": "42-6CtbbNbH0",
        "outputId": "6d6b071b-2042-424a-a59d-92a507cc446b"
      },
      "outputs": [
        {
          "output_type": "execute_result",
          "data": {
            "text/plain": [
              "  AgeGeneration     BusinessTravel              Department  \\\n",
              "0   Millennials  Travel_Frequently         Human Resources   \n",
              "1   Millennials      Travel_Rarely  Research & Development   \n",
              "2         Gen X      Travel_Rarely  Research & Development   \n",
              "3         Gen Y  Travel_Frequently                   Sales   \n",
              "4   Millennials      Travel_Rarely  Research & Development   \n",
              "\n",
              "  DistanceFromHomeCategory Education EducationField EmployeeEngagementScore  \\\n",
              "0           Short Distance    Master          Other                  Better   \n",
              "1          Medium Distance   College        Medical                     Bad   \n",
              "2           Short Distance    Master  Life Sciences                  Better   \n",
              "3            Long Distance  Bachelor      Marketing                  Better   \n",
              "4           Short Distance    Master        Medical                  Better   \n",
              "\n",
              "  ExperiencePriorToCurrentJob  Gender           JobLevel  \\\n",
              "0                      Junior    Male              Staff   \n",
              "1                      Senior  Female  Junior Supervisor   \n",
              "2                   Mid-level    Male              Staff   \n",
              "3                      Junior  Female     Junior Manager   \n",
              "4                      Senior  Female              Staff   \n",
              "\n",
              "                     JobRole MaritalStatus OverTime  \\\n",
              "0            Human Resources       Married      Yes   \n",
              "1  Healthcare Representative       Married       No   \n",
              "2         Research Scientist       Married      Yes   \n",
              "3            Sales Executive       Married       No   \n",
              "4         Research Scientist       Married       No   \n",
              "\n",
              "  PerformanceSatisfactionIndex  \n",
              "0                       Medium  \n",
              "1                          Low  \n",
              "2                       Medium  \n",
              "3                         High  \n",
              "4                       Medium  "
            ],
            "text/html": [
              "\n",
              "  <div id=\"df-3b32b857-0276-4401-9318-fe6e0724647b\" class=\"colab-df-container\">\n",
              "    <div>\n",
              "<style scoped>\n",
              "    .dataframe tbody tr th:only-of-type {\n",
              "        vertical-align: middle;\n",
              "    }\n",
              "\n",
              "    .dataframe tbody tr th {\n",
              "        vertical-align: top;\n",
              "    }\n",
              "\n",
              "    .dataframe thead th {\n",
              "        text-align: right;\n",
              "    }\n",
              "</style>\n",
              "<table border=\"1\" class=\"dataframe\">\n",
              "  <thead>\n",
              "    <tr style=\"text-align: right;\">\n",
              "      <th></th>\n",
              "      <th>AgeGeneration</th>\n",
              "      <th>BusinessTravel</th>\n",
              "      <th>Department</th>\n",
              "      <th>DistanceFromHomeCategory</th>\n",
              "      <th>Education</th>\n",
              "      <th>EducationField</th>\n",
              "      <th>EmployeeEngagementScore</th>\n",
              "      <th>ExperiencePriorToCurrentJob</th>\n",
              "      <th>Gender</th>\n",
              "      <th>JobLevel</th>\n",
              "      <th>JobRole</th>\n",
              "      <th>MaritalStatus</th>\n",
              "      <th>OverTime</th>\n",
              "      <th>PerformanceSatisfactionIndex</th>\n",
              "    </tr>\n",
              "  </thead>\n",
              "  <tbody>\n",
              "    <tr>\n",
              "      <th>0</th>\n",
              "      <td>Millennials</td>\n",
              "      <td>Travel_Frequently</td>\n",
              "      <td>Human Resources</td>\n",
              "      <td>Short Distance</td>\n",
              "      <td>Master</td>\n",
              "      <td>Other</td>\n",
              "      <td>Better</td>\n",
              "      <td>Junior</td>\n",
              "      <td>Male</td>\n",
              "      <td>Staff</td>\n",
              "      <td>Human Resources</td>\n",
              "      <td>Married</td>\n",
              "      <td>Yes</td>\n",
              "      <td>Medium</td>\n",
              "    </tr>\n",
              "    <tr>\n",
              "      <th>1</th>\n",
              "      <td>Millennials</td>\n",
              "      <td>Travel_Rarely</td>\n",
              "      <td>Research &amp; Development</td>\n",
              "      <td>Medium Distance</td>\n",
              "      <td>College</td>\n",
              "      <td>Medical</td>\n",
              "      <td>Bad</td>\n",
              "      <td>Senior</td>\n",
              "      <td>Female</td>\n",
              "      <td>Junior Supervisor</td>\n",
              "      <td>Healthcare Representative</td>\n",
              "      <td>Married</td>\n",
              "      <td>No</td>\n",
              "      <td>Low</td>\n",
              "    </tr>\n",
              "    <tr>\n",
              "      <th>2</th>\n",
              "      <td>Gen X</td>\n",
              "      <td>Travel_Rarely</td>\n",
              "      <td>Research &amp; Development</td>\n",
              "      <td>Short Distance</td>\n",
              "      <td>Master</td>\n",
              "      <td>Life Sciences</td>\n",
              "      <td>Better</td>\n",
              "      <td>Mid-level</td>\n",
              "      <td>Male</td>\n",
              "      <td>Staff</td>\n",
              "      <td>Research Scientist</td>\n",
              "      <td>Married</td>\n",
              "      <td>Yes</td>\n",
              "      <td>Medium</td>\n",
              "    </tr>\n",
              "    <tr>\n",
              "      <th>3</th>\n",
              "      <td>Gen Y</td>\n",
              "      <td>Travel_Frequently</td>\n",
              "      <td>Sales</td>\n",
              "      <td>Long Distance</td>\n",
              "      <td>Bachelor</td>\n",
              "      <td>Marketing</td>\n",
              "      <td>Better</td>\n",
              "      <td>Junior</td>\n",
              "      <td>Female</td>\n",
              "      <td>Junior Manager</td>\n",
              "      <td>Sales Executive</td>\n",
              "      <td>Married</td>\n",
              "      <td>No</td>\n",
              "      <td>High</td>\n",
              "    </tr>\n",
              "    <tr>\n",
              "      <th>4</th>\n",
              "      <td>Millennials</td>\n",
              "      <td>Travel_Rarely</td>\n",
              "      <td>Research &amp; Development</td>\n",
              "      <td>Short Distance</td>\n",
              "      <td>Master</td>\n",
              "      <td>Medical</td>\n",
              "      <td>Better</td>\n",
              "      <td>Senior</td>\n",
              "      <td>Female</td>\n",
              "      <td>Staff</td>\n",
              "      <td>Research Scientist</td>\n",
              "      <td>Married</td>\n",
              "      <td>No</td>\n",
              "      <td>Medium</td>\n",
              "    </tr>\n",
              "  </tbody>\n",
              "</table>\n",
              "</div>\n",
              "    <div class=\"colab-df-buttons\">\n",
              "\n",
              "  <div class=\"colab-df-container\">\n",
              "    <button class=\"colab-df-convert\" onclick=\"convertToInteractive('df-3b32b857-0276-4401-9318-fe6e0724647b')\"\n",
              "            title=\"Convert this dataframe to an interactive table.\"\n",
              "            style=\"display:none;\">\n",
              "\n",
              "  <svg xmlns=\"http://www.w3.org/2000/svg\" height=\"24px\" viewBox=\"0 -960 960 960\">\n",
              "    <path d=\"M120-120v-720h720v720H120Zm60-500h600v-160H180v160Zm220 220h160v-160H400v160Zm0 220h160v-160H400v160ZM180-400h160v-160H180v160Zm440 0h160v-160H620v160ZM180-180h160v-160H180v160Zm440 0h160v-160H620v160Z\"/>\n",
              "  </svg>\n",
              "    </button>\n",
              "\n",
              "  <style>\n",
              "    .colab-df-container {\n",
              "      display:flex;\n",
              "      gap: 12px;\n",
              "    }\n",
              "\n",
              "    .colab-df-convert {\n",
              "      background-color: #E8F0FE;\n",
              "      border: none;\n",
              "      border-radius: 50%;\n",
              "      cursor: pointer;\n",
              "      display: none;\n",
              "      fill: #1967D2;\n",
              "      height: 32px;\n",
              "      padding: 0 0 0 0;\n",
              "      width: 32px;\n",
              "    }\n",
              "\n",
              "    .colab-df-convert:hover {\n",
              "      background-color: #E2EBFA;\n",
              "      box-shadow: 0px 1px 2px rgba(60, 64, 67, 0.3), 0px 1px 3px 1px rgba(60, 64, 67, 0.15);\n",
              "      fill: #174EA6;\n",
              "    }\n",
              "\n",
              "    .colab-df-buttons div {\n",
              "      margin-bottom: 4px;\n",
              "    }\n",
              "\n",
              "    [theme=dark] .colab-df-convert {\n",
              "      background-color: #3B4455;\n",
              "      fill: #D2E3FC;\n",
              "    }\n",
              "\n",
              "    [theme=dark] .colab-df-convert:hover {\n",
              "      background-color: #434B5C;\n",
              "      box-shadow: 0px 1px 3px 1px rgba(0, 0, 0, 0.15);\n",
              "      filter: drop-shadow(0px 1px 2px rgba(0, 0, 0, 0.3));\n",
              "      fill: #FFFFFF;\n",
              "    }\n",
              "  </style>\n",
              "\n",
              "    <script>\n",
              "      const buttonEl =\n",
              "        document.querySelector('#df-3b32b857-0276-4401-9318-fe6e0724647b button.colab-df-convert');\n",
              "      buttonEl.style.display =\n",
              "        google.colab.kernel.accessAllowed ? 'block' : 'none';\n",
              "\n",
              "      async function convertToInteractive(key) {\n",
              "        const element = document.querySelector('#df-3b32b857-0276-4401-9318-fe6e0724647b');\n",
              "        const dataTable =\n",
              "          await google.colab.kernel.invokeFunction('convertToInteractive',\n",
              "                                                    [key], {});\n",
              "        if (!dataTable) return;\n",
              "\n",
              "        const docLinkHtml = 'Like what you see? Visit the ' +\n",
              "          '<a target=\"_blank\" href=https://colab.research.google.com/notebooks/data_table.ipynb>data table notebook</a>'\n",
              "          + ' to learn more about interactive tables.';\n",
              "        element.innerHTML = '';\n",
              "        dataTable['output_type'] = 'display_data';\n",
              "        await google.colab.output.renderOutput(dataTable, element);\n",
              "        const docLink = document.createElement('div');\n",
              "        docLink.innerHTML = docLinkHtml;\n",
              "        element.appendChild(docLink);\n",
              "      }\n",
              "    </script>\n",
              "  </div>\n",
              "\n",
              "\n",
              "<div id=\"df-4ff6cc3b-0d7f-4a7b-80ad-345446c5f6fd\">\n",
              "  <button class=\"colab-df-quickchart\" onclick=\"quickchart('df-4ff6cc3b-0d7f-4a7b-80ad-345446c5f6fd')\"\n",
              "            title=\"Suggest charts\"\n",
              "            style=\"display:none;\">\n",
              "\n",
              "<svg xmlns=\"http://www.w3.org/2000/svg\" height=\"24px\"viewBox=\"0 0 24 24\"\n",
              "     width=\"24px\">\n",
              "    <g>\n",
              "        <path d=\"M19 3H5c-1.1 0-2 .9-2 2v14c0 1.1.9 2 2 2h14c1.1 0 2-.9 2-2V5c0-1.1-.9-2-2-2zM9 17H7v-7h2v7zm4 0h-2V7h2v10zm4 0h-2v-4h2v4z\"/>\n",
              "    </g>\n",
              "</svg>\n",
              "  </button>\n",
              "\n",
              "<style>\n",
              "  .colab-df-quickchart {\n",
              "      --bg-color: #E8F0FE;\n",
              "      --fill-color: #1967D2;\n",
              "      --hover-bg-color: #E2EBFA;\n",
              "      --hover-fill-color: #174EA6;\n",
              "      --disabled-fill-color: #AAA;\n",
              "      --disabled-bg-color: #DDD;\n",
              "  }\n",
              "\n",
              "  [theme=dark] .colab-df-quickchart {\n",
              "      --bg-color: #3B4455;\n",
              "      --fill-color: #D2E3FC;\n",
              "      --hover-bg-color: #434B5C;\n",
              "      --hover-fill-color: #FFFFFF;\n",
              "      --disabled-bg-color: #3B4455;\n",
              "      --disabled-fill-color: #666;\n",
              "  }\n",
              "\n",
              "  .colab-df-quickchart {\n",
              "    background-color: var(--bg-color);\n",
              "    border: none;\n",
              "    border-radius: 50%;\n",
              "    cursor: pointer;\n",
              "    display: none;\n",
              "    fill: var(--fill-color);\n",
              "    height: 32px;\n",
              "    padding: 0;\n",
              "    width: 32px;\n",
              "  }\n",
              "\n",
              "  .colab-df-quickchart:hover {\n",
              "    background-color: var(--hover-bg-color);\n",
              "    box-shadow: 0 1px 2px rgba(60, 64, 67, 0.3), 0 1px 3px 1px rgba(60, 64, 67, 0.15);\n",
              "    fill: var(--button-hover-fill-color);\n",
              "  }\n",
              "\n",
              "  .colab-df-quickchart-complete:disabled,\n",
              "  .colab-df-quickchart-complete:disabled:hover {\n",
              "    background-color: var(--disabled-bg-color);\n",
              "    fill: var(--disabled-fill-color);\n",
              "    box-shadow: none;\n",
              "  }\n",
              "\n",
              "  .colab-df-spinner {\n",
              "    border: 2px solid var(--fill-color);\n",
              "    border-color: transparent;\n",
              "    border-bottom-color: var(--fill-color);\n",
              "    animation:\n",
              "      spin 1s steps(1) infinite;\n",
              "  }\n",
              "\n",
              "  @keyframes spin {\n",
              "    0% {\n",
              "      border-color: transparent;\n",
              "      border-bottom-color: var(--fill-color);\n",
              "      border-left-color: var(--fill-color);\n",
              "    }\n",
              "    20% {\n",
              "      border-color: transparent;\n",
              "      border-left-color: var(--fill-color);\n",
              "      border-top-color: var(--fill-color);\n",
              "    }\n",
              "    30% {\n",
              "      border-color: transparent;\n",
              "      border-left-color: var(--fill-color);\n",
              "      border-top-color: var(--fill-color);\n",
              "      border-right-color: var(--fill-color);\n",
              "    }\n",
              "    40% {\n",
              "      border-color: transparent;\n",
              "      border-right-color: var(--fill-color);\n",
              "      border-top-color: var(--fill-color);\n",
              "    }\n",
              "    60% {\n",
              "      border-color: transparent;\n",
              "      border-right-color: var(--fill-color);\n",
              "    }\n",
              "    80% {\n",
              "      border-color: transparent;\n",
              "      border-right-color: var(--fill-color);\n",
              "      border-bottom-color: var(--fill-color);\n",
              "    }\n",
              "    90% {\n",
              "      border-color: transparent;\n",
              "      border-bottom-color: var(--fill-color);\n",
              "    }\n",
              "  }\n",
              "</style>\n",
              "\n",
              "  <script>\n",
              "    async function quickchart(key) {\n",
              "      const quickchartButtonEl =\n",
              "        document.querySelector('#' + key + ' button');\n",
              "      quickchartButtonEl.disabled = true;  // To prevent multiple clicks.\n",
              "      quickchartButtonEl.classList.add('colab-df-spinner');\n",
              "      try {\n",
              "        const charts = await google.colab.kernel.invokeFunction(\n",
              "            'suggestCharts', [key], {});\n",
              "      } catch (error) {\n",
              "        console.error('Error during call to suggestCharts:', error);\n",
              "      }\n",
              "      quickchartButtonEl.classList.remove('colab-df-spinner');\n",
              "      quickchartButtonEl.classList.add('colab-df-quickchart-complete');\n",
              "    }\n",
              "    (() => {\n",
              "      let quickchartButtonEl =\n",
              "        document.querySelector('#df-4ff6cc3b-0d7f-4a7b-80ad-345446c5f6fd button');\n",
              "      quickchartButtonEl.style.display =\n",
              "        google.colab.kernel.accessAllowed ? 'block' : 'none';\n",
              "    })();\n",
              "  </script>\n",
              "</div>\n",
              "    </div>\n",
              "  </div>\n"
            ],
            "application/vnd.google.colaboratory.intrinsic+json": {
              "type": "dataframe",
              "variable_name": "category_cols",
              "summary": "{\n  \"name\": \"category_cols\",\n  \"rows\": 1470,\n  \"fields\": [\n    {\n      \"column\": \"AgeGeneration\",\n      \"properties\": {\n        \"dtype\": \"category\",\n        \"num_unique_values\": 4,\n        \"samples\": [\n          \"Gen X\",\n          \"Gen Z\",\n          \"Millennials\"\n        ],\n        \"semantic_type\": \"\",\n        \"description\": \"\"\n      }\n    },\n    {\n      \"column\": \"BusinessTravel\",\n      \"properties\": {\n        \"dtype\": \"category\",\n        \"num_unique_values\": 3,\n        \"samples\": [\n          \"Travel_Frequently\",\n          \"Travel_Rarely\",\n          \"Non-Travel\"\n        ],\n        \"semantic_type\": \"\",\n        \"description\": \"\"\n      }\n    },\n    {\n      \"column\": \"Department\",\n      \"properties\": {\n        \"dtype\": \"category\",\n        \"num_unique_values\": 3,\n        \"samples\": [\n          \"Human Resources\",\n          \"Research & Development\",\n          \"Sales\"\n        ],\n        \"semantic_type\": \"\",\n        \"description\": \"\"\n      }\n    },\n    {\n      \"column\": \"DistanceFromHomeCategory\",\n      \"properties\": {\n        \"dtype\": \"category\",\n        \"num_unique_values\": 3,\n        \"samples\": [\n          \"Short Distance\",\n          \"Medium Distance\",\n          \"Long Distance\"\n        ],\n        \"semantic_type\": \"\",\n        \"description\": \"\"\n      }\n    },\n    {\n      \"column\": \"Education\",\n      \"properties\": {\n        \"dtype\": \"category\",\n        \"num_unique_values\": 5,\n        \"samples\": [\n          \"College\",\n          \"Doctor\",\n          \"Bachelor\"\n        ],\n        \"semantic_type\": \"\",\n        \"description\": \"\"\n      }\n    },\n    {\n      \"column\": \"EducationField\",\n      \"properties\": {\n        \"dtype\": \"category\",\n        \"num_unique_values\": 6,\n        \"samples\": [\n          \"Other\",\n          \"Medical\",\n          \"Human Resources\"\n        ],\n        \"semantic_type\": \"\",\n        \"description\": \"\"\n      }\n    },\n    {\n      \"column\": \"EmployeeEngagementScore\",\n      \"properties\": {\n        \"dtype\": \"category\",\n        \"num_unique_values\": 4,\n        \"samples\": [\n          \"Bad\",\n          \"Best\",\n          \"Better\"\n        ],\n        \"semantic_type\": \"\",\n        \"description\": \"\"\n      }\n    },\n    {\n      \"column\": \"ExperiencePriorToCurrentJob\",\n      \"properties\": {\n        \"dtype\": \"category\",\n        \"num_unique_values\": 5,\n        \"samples\": [\n          \"Senior\",\n          \"Veteran\",\n          \"Mid-level\"\n        ],\n        \"semantic_type\": \"\",\n        \"description\": \"\"\n      }\n    },\n    {\n      \"column\": \"Gender\",\n      \"properties\": {\n        \"dtype\": \"category\",\n        \"num_unique_values\": 2,\n        \"samples\": [\n          \"Female\",\n          \"Male\"\n        ],\n        \"semantic_type\": \"\",\n        \"description\": \"\"\n      }\n    },\n    {\n      \"column\": \"JobLevel\",\n      \"properties\": {\n        \"dtype\": \"category\",\n        \"num_unique_values\": 5,\n        \"samples\": [\n          \"Junior Supervisor\",\n          \"Senior Supervisor\"\n        ],\n        \"semantic_type\": \"\",\n        \"description\": \"\"\n      }\n    },\n    {\n      \"column\": \"JobRole\",\n      \"properties\": {\n        \"dtype\": \"category\",\n        \"num_unique_values\": 9,\n        \"samples\": [\n          \"Manufacturing Director\",\n          \"Healthcare Representative\"\n        ],\n        \"semantic_type\": \"\",\n        \"description\": \"\"\n      }\n    },\n    {\n      \"column\": \"MaritalStatus\",\n      \"properties\": {\n        \"dtype\": \"category\",\n        \"num_unique_values\": 3,\n        \"samples\": [\n          \"Married\",\n          \"Single\"\n        ],\n        \"semantic_type\": \"\",\n        \"description\": \"\"\n      }\n    },\n    {\n      \"column\": \"OverTime\",\n      \"properties\": {\n        \"dtype\": \"category\",\n        \"num_unique_values\": 2,\n        \"samples\": [\n          \"No\",\n          \"Yes\"\n        ],\n        \"semantic_type\": \"\",\n        \"description\": \"\"\n      }\n    },\n    {\n      \"column\": \"PerformanceSatisfactionIndex\",\n      \"properties\": {\n        \"dtype\": \"category\",\n        \"num_unique_values\": 4,\n        \"samples\": [\n          \"Low\",\n          \"Very High\"\n        ],\n        \"semantic_type\": \"\",\n        \"description\": \"\"\n      }\n    }\n  ]\n}"
            }
          },
          "metadata": {},
          "execution_count": 30
        }
      ],
      "source": [
        "# Filter Categorical Features\n",
        "category_cols = employee_df.select_dtypes(exclude=['int32','int64','float32','float64'])\n",
        "category_cols.head()"
      ]
    },
    {
      "cell_type": "code",
      "execution_count": 31,
      "metadata": {
        "colab": {
          "base_uri": "https://localhost:8080/"
        },
        "id": "LDQQQ6Qt4FYi",
        "outputId": "3f191919-034c-4f22-8889-f2ba74b14ba7"
      },
      "outputs": [
        {
          "output_type": "execute_result",
          "data": {
            "text/plain": [
              "AgeGeneration                   4\n",
              "BusinessTravel                  3\n",
              "Department                      3\n",
              "DistanceFromHomeCategory        3\n",
              "Education                       5\n",
              "EducationField                  6\n",
              "EmployeeEngagementScore         4\n",
              "ExperiencePriorToCurrentJob     5\n",
              "Gender                          2\n",
              "JobLevel                        5\n",
              "JobRole                         9\n",
              "MaritalStatus                   3\n",
              "OverTime                        2\n",
              "PerformanceSatisfactionIndex    4\n",
              "dtype: int64"
            ]
          },
          "metadata": {},
          "execution_count": 31
        }
      ],
      "source": [
        "category_cols.nunique()"
      ]
    },
    {
      "cell_type": "code",
      "execution_count": 32,
      "metadata": {
        "id": "nzWeOxwx5srt"
      },
      "outputs": [],
      "source": [
        "label_encoder=LabelEncoder()\n",
        "columns_to_encode = ['Attrition', 'OverTime', 'AgeGeneration', 'BusinessTravel', 'Department', 'DistanceFromHomeCategory',\n",
        "                     'Education', 'EducationField', 'EmployeeEngagementScore', 'MaritalStatus', 'ExperiencePriorToCurrentJob',\n",
        "                     'JobLevel', 'JobRole', 'Gender', 'PerformanceSatisfactionIndex']\n",
        "\n",
        "for column in columns_to_encode:\n",
        "    employee_df[column] = label_encoder.fit_transform(employee_df[column])"
      ]
    },
    {
      "cell_type": "code",
      "execution_count": 33,
      "metadata": {
        "colab": {
          "base_uri": "https://localhost:8080/",
          "height": 255
        },
        "id": "-nVwGnOkC-x4",
        "outputId": "c9b90bab-eb60-4995-9c43-5a5bf73d3dd1"
      },
      "outputs": [
        {
          "output_type": "execute_result",
          "data": {
            "text/plain": [
              "   AgeGeneration  Attrition  BusinessTravel  DailyRate  Department  \\\n",
              "0              3          0               1       1444           0   \n",
              "1              3          1               2       1141           1   \n",
              "2              0          1               2       1323           1   \n",
              "3              1          0               1        555           2   \n",
              "4              3          0               2       1194           1   \n",
              "\n",
              "   DistanceFromHomeCategory  Education  EducationField  \\\n",
              "0                         2          4               4   \n",
              "1                         1          2               3   \n",
              "2                         2          4               1   \n",
              "3                         0          0               2   \n",
              "4                         2          4               3   \n",
              "\n",
              "   EmployeeEngagementScore  EmployeeId  ...  JobRole  MaritalStatus  \\\n",
              "0                        2           1  ...        1              1   \n",
              "1                        0           2  ...        0              1   \n",
              "2                        2           3  ...        6              1   \n",
              "3                        2           4  ...        7              1   \n",
              "4                        2           5  ...        6              1   \n",
              "\n",
              "   MonthlyIncome  MonthlyRate  NumCompaniesWorked  OverTime  \\\n",
              "0           2991         5224                   0         1   \n",
              "1           4777        14382                   5         0   \n",
              "2           2461        10332                   9         1   \n",
              "3          13525        14864                   5         0   \n",
              "4           2001        12549                   2         0   \n",
              "\n",
              "   PercentSalaryHike  PerformanceSatisfactionIndex  StockOptionLevel  \\\n",
              "0                 11                             2                 1   \n",
              "1                 15                             1                 0   \n",
              "2                 12                             2                 3   \n",
              "3                 14                             0                 1   \n",
              "4                 14                             2                 3   \n",
              "\n",
              "   TrainingTimesLastYear  \n",
              "0                      2  \n",
              "1                      2  \n",
              "2                      2  \n",
              "3                      2  \n",
              "4                      2  \n",
              "\n",
              "[5 rows x 24 columns]"
            ],
            "text/html": [
              "\n",
              "  <div id=\"df-0e739236-9bbb-4a56-8a98-b99404a79599\" class=\"colab-df-container\">\n",
              "    <div>\n",
              "<style scoped>\n",
              "    .dataframe tbody tr th:only-of-type {\n",
              "        vertical-align: middle;\n",
              "    }\n",
              "\n",
              "    .dataframe tbody tr th {\n",
              "        vertical-align: top;\n",
              "    }\n",
              "\n",
              "    .dataframe thead th {\n",
              "        text-align: right;\n",
              "    }\n",
              "</style>\n",
              "<table border=\"1\" class=\"dataframe\">\n",
              "  <thead>\n",
              "    <tr style=\"text-align: right;\">\n",
              "      <th></th>\n",
              "      <th>AgeGeneration</th>\n",
              "      <th>Attrition</th>\n",
              "      <th>BusinessTravel</th>\n",
              "      <th>DailyRate</th>\n",
              "      <th>Department</th>\n",
              "      <th>DistanceFromHomeCategory</th>\n",
              "      <th>Education</th>\n",
              "      <th>EducationField</th>\n",
              "      <th>EmployeeEngagementScore</th>\n",
              "      <th>EmployeeId</th>\n",
              "      <th>...</th>\n",
              "      <th>JobRole</th>\n",
              "      <th>MaritalStatus</th>\n",
              "      <th>MonthlyIncome</th>\n",
              "      <th>MonthlyRate</th>\n",
              "      <th>NumCompaniesWorked</th>\n",
              "      <th>OverTime</th>\n",
              "      <th>PercentSalaryHike</th>\n",
              "      <th>PerformanceSatisfactionIndex</th>\n",
              "      <th>StockOptionLevel</th>\n",
              "      <th>TrainingTimesLastYear</th>\n",
              "    </tr>\n",
              "  </thead>\n",
              "  <tbody>\n",
              "    <tr>\n",
              "      <th>0</th>\n",
              "      <td>3</td>\n",
              "      <td>0</td>\n",
              "      <td>1</td>\n",
              "      <td>1444</td>\n",
              "      <td>0</td>\n",
              "      <td>2</td>\n",
              "      <td>4</td>\n",
              "      <td>4</td>\n",
              "      <td>2</td>\n",
              "      <td>1</td>\n",
              "      <td>...</td>\n",
              "      <td>1</td>\n",
              "      <td>1</td>\n",
              "      <td>2991</td>\n",
              "      <td>5224</td>\n",
              "      <td>0</td>\n",
              "      <td>1</td>\n",
              "      <td>11</td>\n",
              "      <td>2</td>\n",
              "      <td>1</td>\n",
              "      <td>2</td>\n",
              "    </tr>\n",
              "    <tr>\n",
              "      <th>1</th>\n",
              "      <td>3</td>\n",
              "      <td>1</td>\n",
              "      <td>2</td>\n",
              "      <td>1141</td>\n",
              "      <td>1</td>\n",
              "      <td>1</td>\n",
              "      <td>2</td>\n",
              "      <td>3</td>\n",
              "      <td>0</td>\n",
              "      <td>2</td>\n",
              "      <td>...</td>\n",
              "      <td>0</td>\n",
              "      <td>1</td>\n",
              "      <td>4777</td>\n",
              "      <td>14382</td>\n",
              "      <td>5</td>\n",
              "      <td>0</td>\n",
              "      <td>15</td>\n",
              "      <td>1</td>\n",
              "      <td>0</td>\n",
              "      <td>2</td>\n",
              "    </tr>\n",
              "    <tr>\n",
              "      <th>2</th>\n",
              "      <td>0</td>\n",
              "      <td>1</td>\n",
              "      <td>2</td>\n",
              "      <td>1323</td>\n",
              "      <td>1</td>\n",
              "      <td>2</td>\n",
              "      <td>4</td>\n",
              "      <td>1</td>\n",
              "      <td>2</td>\n",
              "      <td>3</td>\n",
              "      <td>...</td>\n",
              "      <td>6</td>\n",
              "      <td>1</td>\n",
              "      <td>2461</td>\n",
              "      <td>10332</td>\n",
              "      <td>9</td>\n",
              "      <td>1</td>\n",
              "      <td>12</td>\n",
              "      <td>2</td>\n",
              "      <td>3</td>\n",
              "      <td>2</td>\n",
              "    </tr>\n",
              "    <tr>\n",
              "      <th>3</th>\n",
              "      <td>1</td>\n",
              "      <td>0</td>\n",
              "      <td>1</td>\n",
              "      <td>555</td>\n",
              "      <td>2</td>\n",
              "      <td>0</td>\n",
              "      <td>0</td>\n",
              "      <td>2</td>\n",
              "      <td>2</td>\n",
              "      <td>4</td>\n",
              "      <td>...</td>\n",
              "      <td>7</td>\n",
              "      <td>1</td>\n",
              "      <td>13525</td>\n",
              "      <td>14864</td>\n",
              "      <td>5</td>\n",
              "      <td>0</td>\n",
              "      <td>14</td>\n",
              "      <td>0</td>\n",
              "      <td>1</td>\n",
              "      <td>2</td>\n",
              "    </tr>\n",
              "    <tr>\n",
              "      <th>4</th>\n",
              "      <td>3</td>\n",
              "      <td>0</td>\n",
              "      <td>2</td>\n",
              "      <td>1194</td>\n",
              "      <td>1</td>\n",
              "      <td>2</td>\n",
              "      <td>4</td>\n",
              "      <td>3</td>\n",
              "      <td>2</td>\n",
              "      <td>5</td>\n",
              "      <td>...</td>\n",
              "      <td>6</td>\n",
              "      <td>1</td>\n",
              "      <td>2001</td>\n",
              "      <td>12549</td>\n",
              "      <td>2</td>\n",
              "      <td>0</td>\n",
              "      <td>14</td>\n",
              "      <td>2</td>\n",
              "      <td>3</td>\n",
              "      <td>2</td>\n",
              "    </tr>\n",
              "  </tbody>\n",
              "</table>\n",
              "<p>5 rows × 24 columns</p>\n",
              "</div>\n",
              "    <div class=\"colab-df-buttons\">\n",
              "\n",
              "  <div class=\"colab-df-container\">\n",
              "    <button class=\"colab-df-convert\" onclick=\"convertToInteractive('df-0e739236-9bbb-4a56-8a98-b99404a79599')\"\n",
              "            title=\"Convert this dataframe to an interactive table.\"\n",
              "            style=\"display:none;\">\n",
              "\n",
              "  <svg xmlns=\"http://www.w3.org/2000/svg\" height=\"24px\" viewBox=\"0 -960 960 960\">\n",
              "    <path d=\"M120-120v-720h720v720H120Zm60-500h600v-160H180v160Zm220 220h160v-160H400v160Zm0 220h160v-160H400v160ZM180-400h160v-160H180v160Zm440 0h160v-160H620v160ZM180-180h160v-160H180v160Zm440 0h160v-160H620v160Z\"/>\n",
              "  </svg>\n",
              "    </button>\n",
              "\n",
              "  <style>\n",
              "    .colab-df-container {\n",
              "      display:flex;\n",
              "      gap: 12px;\n",
              "    }\n",
              "\n",
              "    .colab-df-convert {\n",
              "      background-color: #E8F0FE;\n",
              "      border: none;\n",
              "      border-radius: 50%;\n",
              "      cursor: pointer;\n",
              "      display: none;\n",
              "      fill: #1967D2;\n",
              "      height: 32px;\n",
              "      padding: 0 0 0 0;\n",
              "      width: 32px;\n",
              "    }\n",
              "\n",
              "    .colab-df-convert:hover {\n",
              "      background-color: #E2EBFA;\n",
              "      box-shadow: 0px 1px 2px rgba(60, 64, 67, 0.3), 0px 1px 3px 1px rgba(60, 64, 67, 0.15);\n",
              "      fill: #174EA6;\n",
              "    }\n",
              "\n",
              "    .colab-df-buttons div {\n",
              "      margin-bottom: 4px;\n",
              "    }\n",
              "\n",
              "    [theme=dark] .colab-df-convert {\n",
              "      background-color: #3B4455;\n",
              "      fill: #D2E3FC;\n",
              "    }\n",
              "\n",
              "    [theme=dark] .colab-df-convert:hover {\n",
              "      background-color: #434B5C;\n",
              "      box-shadow: 0px 1px 3px 1px rgba(0, 0, 0, 0.15);\n",
              "      filter: drop-shadow(0px 1px 2px rgba(0, 0, 0, 0.3));\n",
              "      fill: #FFFFFF;\n",
              "    }\n",
              "  </style>\n",
              "\n",
              "    <script>\n",
              "      const buttonEl =\n",
              "        document.querySelector('#df-0e739236-9bbb-4a56-8a98-b99404a79599 button.colab-df-convert');\n",
              "      buttonEl.style.display =\n",
              "        google.colab.kernel.accessAllowed ? 'block' : 'none';\n",
              "\n",
              "      async function convertToInteractive(key) {\n",
              "        const element = document.querySelector('#df-0e739236-9bbb-4a56-8a98-b99404a79599');\n",
              "        const dataTable =\n",
              "          await google.colab.kernel.invokeFunction('convertToInteractive',\n",
              "                                                    [key], {});\n",
              "        if (!dataTable) return;\n",
              "\n",
              "        const docLinkHtml = 'Like what you see? Visit the ' +\n",
              "          '<a target=\"_blank\" href=https://colab.research.google.com/notebooks/data_table.ipynb>data table notebook</a>'\n",
              "          + ' to learn more about interactive tables.';\n",
              "        element.innerHTML = '';\n",
              "        dataTable['output_type'] = 'display_data';\n",
              "        await google.colab.output.renderOutput(dataTable, element);\n",
              "        const docLink = document.createElement('div');\n",
              "        docLink.innerHTML = docLinkHtml;\n",
              "        element.appendChild(docLink);\n",
              "      }\n",
              "    </script>\n",
              "  </div>\n",
              "\n",
              "\n",
              "<div id=\"df-16ec57f0-440b-4224-9333-b23e761fd89c\">\n",
              "  <button class=\"colab-df-quickchart\" onclick=\"quickchart('df-16ec57f0-440b-4224-9333-b23e761fd89c')\"\n",
              "            title=\"Suggest charts\"\n",
              "            style=\"display:none;\">\n",
              "\n",
              "<svg xmlns=\"http://www.w3.org/2000/svg\" height=\"24px\"viewBox=\"0 0 24 24\"\n",
              "     width=\"24px\">\n",
              "    <g>\n",
              "        <path d=\"M19 3H5c-1.1 0-2 .9-2 2v14c0 1.1.9 2 2 2h14c1.1 0 2-.9 2-2V5c0-1.1-.9-2-2-2zM9 17H7v-7h2v7zm4 0h-2V7h2v10zm4 0h-2v-4h2v4z\"/>\n",
              "    </g>\n",
              "</svg>\n",
              "  </button>\n",
              "\n",
              "<style>\n",
              "  .colab-df-quickchart {\n",
              "      --bg-color: #E8F0FE;\n",
              "      --fill-color: #1967D2;\n",
              "      --hover-bg-color: #E2EBFA;\n",
              "      --hover-fill-color: #174EA6;\n",
              "      --disabled-fill-color: #AAA;\n",
              "      --disabled-bg-color: #DDD;\n",
              "  }\n",
              "\n",
              "  [theme=dark] .colab-df-quickchart {\n",
              "      --bg-color: #3B4455;\n",
              "      --fill-color: #D2E3FC;\n",
              "      --hover-bg-color: #434B5C;\n",
              "      --hover-fill-color: #FFFFFF;\n",
              "      --disabled-bg-color: #3B4455;\n",
              "      --disabled-fill-color: #666;\n",
              "  }\n",
              "\n",
              "  .colab-df-quickchart {\n",
              "    background-color: var(--bg-color);\n",
              "    border: none;\n",
              "    border-radius: 50%;\n",
              "    cursor: pointer;\n",
              "    display: none;\n",
              "    fill: var(--fill-color);\n",
              "    height: 32px;\n",
              "    padding: 0;\n",
              "    width: 32px;\n",
              "  }\n",
              "\n",
              "  .colab-df-quickchart:hover {\n",
              "    background-color: var(--hover-bg-color);\n",
              "    box-shadow: 0 1px 2px rgba(60, 64, 67, 0.3), 0 1px 3px 1px rgba(60, 64, 67, 0.15);\n",
              "    fill: var(--button-hover-fill-color);\n",
              "  }\n",
              "\n",
              "  .colab-df-quickchart-complete:disabled,\n",
              "  .colab-df-quickchart-complete:disabled:hover {\n",
              "    background-color: var(--disabled-bg-color);\n",
              "    fill: var(--disabled-fill-color);\n",
              "    box-shadow: none;\n",
              "  }\n",
              "\n",
              "  .colab-df-spinner {\n",
              "    border: 2px solid var(--fill-color);\n",
              "    border-color: transparent;\n",
              "    border-bottom-color: var(--fill-color);\n",
              "    animation:\n",
              "      spin 1s steps(1) infinite;\n",
              "  }\n",
              "\n",
              "  @keyframes spin {\n",
              "    0% {\n",
              "      border-color: transparent;\n",
              "      border-bottom-color: var(--fill-color);\n",
              "      border-left-color: var(--fill-color);\n",
              "    }\n",
              "    20% {\n",
              "      border-color: transparent;\n",
              "      border-left-color: var(--fill-color);\n",
              "      border-top-color: var(--fill-color);\n",
              "    }\n",
              "    30% {\n",
              "      border-color: transparent;\n",
              "      border-left-color: var(--fill-color);\n",
              "      border-top-color: var(--fill-color);\n",
              "      border-right-color: var(--fill-color);\n",
              "    }\n",
              "    40% {\n",
              "      border-color: transparent;\n",
              "      border-right-color: var(--fill-color);\n",
              "      border-top-color: var(--fill-color);\n",
              "    }\n",
              "    60% {\n",
              "      border-color: transparent;\n",
              "      border-right-color: var(--fill-color);\n",
              "    }\n",
              "    80% {\n",
              "      border-color: transparent;\n",
              "      border-right-color: var(--fill-color);\n",
              "      border-bottom-color: var(--fill-color);\n",
              "    }\n",
              "    90% {\n",
              "      border-color: transparent;\n",
              "      border-bottom-color: var(--fill-color);\n",
              "    }\n",
              "  }\n",
              "</style>\n",
              "\n",
              "  <script>\n",
              "    async function quickchart(key) {\n",
              "      const quickchartButtonEl =\n",
              "        document.querySelector('#' + key + ' button');\n",
              "      quickchartButtonEl.disabled = true;  // To prevent multiple clicks.\n",
              "      quickchartButtonEl.classList.add('colab-df-spinner');\n",
              "      try {\n",
              "        const charts = await google.colab.kernel.invokeFunction(\n",
              "            'suggestCharts', [key], {});\n",
              "      } catch (error) {\n",
              "        console.error('Error during call to suggestCharts:', error);\n",
              "      }\n",
              "      quickchartButtonEl.classList.remove('colab-df-spinner');\n",
              "      quickchartButtonEl.classList.add('colab-df-quickchart-complete');\n",
              "    }\n",
              "    (() => {\n",
              "      let quickchartButtonEl =\n",
              "        document.querySelector('#df-16ec57f0-440b-4224-9333-b23e761fd89c button');\n",
              "      quickchartButtonEl.style.display =\n",
              "        google.colab.kernel.accessAllowed ? 'block' : 'none';\n",
              "    })();\n",
              "  </script>\n",
              "</div>\n",
              "    </div>\n",
              "  </div>\n"
            ],
            "application/vnd.google.colaboratory.intrinsic+json": {
              "type": "dataframe",
              "variable_name": "emp_df"
            }
          },
          "metadata": {},
          "execution_count": 33
        }
      ],
      "source": [
        "emp_df = employee_df.drop(['YearsInCurrentRole' , 'YearsSinceLastPromotion', 'YearsWithCurrManager'],axis=1)\n",
        "emp_df.head()"
      ]
    },
    {
      "cell_type": "code",
      "execution_count": 34,
      "metadata": {
        "id": "mFYcdgPuAj08"
      },
      "outputs": [],
      "source": [
        "X=np.array(emp_df.drop(['Attrition'],axis=1))\n",
        "y=np.array(emp_df['Attrition'])"
      ]
    },
    {
      "cell_type": "code",
      "execution_count": 35,
      "metadata": {
        "colab": {
          "base_uri": "https://localhost:8080/"
        },
        "id": "kU7QG29lA3Vn",
        "outputId": "473fad5d-b7a6-41ea-bad8-3f953c367d93"
      },
      "outputs": [
        {
          "output_type": "stream",
          "name": "stdout",
          "text": [
            "(1176, 23)\n",
            "(294, 23)\n"
          ]
        }
      ],
      "source": [
        "X_train, X_test, y_train, y_test = train_test_split(X, y, random_state=42, test_size=0.2)\n",
        "print(X_train.shape)\n",
        "print(X_test.shape)"
      ]
    },
    {
      "cell_type": "code",
      "execution_count": 36,
      "metadata": {
        "id": "UyvYo0b-BEOF"
      },
      "outputs": [],
      "source": [
        "scaler = StandardScaler()\n",
        "X_train = scaler.fit_transform(X_train)\n",
        "X_test = scaler.transform(X_test)"
      ]
    },
    {
      "cell_type": "markdown",
      "metadata": {
        "id": "RwGgWiapO2YQ"
      },
      "source": [
        "### Model Logistic Regression\n"
      ]
    },
    {
      "cell_type": "code",
      "execution_count": 37,
      "metadata": {
        "colab": {
          "base_uri": "https://localhost:8080/"
        },
        "id": "JR7W3OvIi1DX",
        "outputId": "a3b60ec8-0a69-4364-bf4d-9254b8b03489"
      },
      "outputs": [
        {
          "output_type": "stream",
          "name": "stdout",
          "text": [
            "Best parameters: {'C': 0.1, 'max_iter': 100, 'multi_class': 'auto', 'solver': 'lbfgs'}\n",
            "The test accuracy score of Logistic Regression is 0.9013605442176871\n"
          ]
        }
      ],
      "source": [
        "# Initialize the Logistic Regression classifier\n",
        "clf_lr = LogisticRegression()\n",
        "\n",
        "# Define the grid of hyperparameters\n",
        "param_grid1 = {\n",
        "    'C' :[0.1, 1, 10, 100],\n",
        "    'max_iter': [100, 150, 200, 300],\n",
        "    'multi_class': ['auto'],\n",
        "    'solver': ['lbfgs', 'liblinear', 'newton-cg', 'sag', 'saga']\n",
        "}\n",
        "\n",
        "# Initialize GridSearchCV\n",
        "gs1 = GridSearchCV(\n",
        "    estimator=clf_lr,\n",
        "    param_grid=param_grid1,\n",
        "    cv=5,\n",
        "    n_jobs=-1,\n",
        "    scoring='accuracy'\n",
        ")\n",
        "\n",
        "# Train the classifier using GridSearchCV\n",
        "clf_lr_grid = gs1.fit(X_train, y_train)\n",
        "\n",
        "# Make predictions on the test set\n",
        "y_pred = clf_lr_grid.predict(X_test)\n",
        "\n",
        "# Print the best parameters found by GridSearchCV\n",
        "print(\"Best parameters:\", clf_lr_grid.best_params_)\n",
        "\n",
        "# Calculate and print the test accuracy\n",
        "test_accuracy = accuracy_score(y_test, y_pred)\n",
        "print(\"The test accuracy score of Logistic Regression is\", test_accuracy)\n"
      ]
    },
    {
      "cell_type": "markdown",
      "source": [
        "### Model K Nearest Neighbors"
      ],
      "metadata": {
        "id": "NG-fgpyjdmUW"
      }
    },
    {
      "cell_type": "code",
      "source": [
        "# Initialize the KNeighborsClassifier\n",
        "clf_knn = KNeighborsClassifier()\n",
        "\n",
        "# Define the grid of hyperparameters\n",
        "param_grid1 = {\n",
        "    'n_neighbors': [3, 5, 7],\n",
        "    'weights': ['uniform', 'distance'],\n",
        "    'metric': ['euclidean', 'manhattan']\n",
        "}\n",
        "\n",
        "# Initialize GridSearchCV\n",
        "gs1 = GridSearchCV(\n",
        "    estimator=clf_knn,\n",
        "    param_grid=param_grid1,\n",
        "    cv=5,\n",
        "    scoring='accuracy'\n",
        ")\n",
        "\n",
        "# Train the classifier using GridSearchCV\n",
        "clf_knn_grid = gs1.fit(X_train, y_train)\n",
        "\n",
        "# Make predictions on the test set\n",
        "y_pred = clf_knn_grid.predict(X_test)\n",
        "\n",
        "# Print the best parameters found by GridSearchCV\n",
        "print(\"Best parameters:\", clf_knn_grid.best_params_)\n",
        "\n",
        "# Calculate and print the test accuracy\n",
        "test_accuracy = accuracy_score(y_test, y_pred)\n",
        "print(\"The test accuracy score of K-Nearest Neighbors Classifier is\", test_accuracy)"
      ],
      "metadata": {
        "colab": {
          "base_uri": "https://localhost:8080/"
        },
        "id": "ry5iDmMJdxIC",
        "outputId": "72bfbeb8-7c5a-4634-c3f5-e6f2bbf87502"
      },
      "execution_count": 41,
      "outputs": [
        {
          "output_type": "stream",
          "name": "stdout",
          "text": [
            "Best parameters: {'metric': 'manhattan', 'n_neighbors': 7, 'weights': 'uniform'}\n",
            "The test accuracy score of K-Nearest Neighbors Classifier is 0.8945578231292517\n"
          ]
        }
      ]
    },
    {
      "cell_type": "markdown",
      "source": [
        "### Model SVM Classifier"
      ],
      "metadata": {
        "id": "DoYfmuWEeq1z"
      }
    },
    {
      "cell_type": "code",
      "source": [
        "# Initialize the SVM classifier\n",
        "clf_svm = SVC(probability=True)\n",
        "\n",
        "# Define the grid of hyperparameters\n",
        "param_grid1 = {\n",
        "    'C': [0.1, 1, 10, 100],\n",
        "    'kernel': ['linear', 'rbf'],\n",
        "    'gamma': [0.1, 1, 'scale']\n",
        "}\n",
        "\n",
        "# Initialize GridSearchCV\n",
        "gs1 = GridSearchCV(\n",
        "    estimator=clf_svm,\n",
        "    param_grid=param_grid1,\n",
        "    cv=5,\n",
        "    scoring='accuracy'\n",
        ")\n",
        "\n",
        "# Train the classifier using GridSearchCV\n",
        "clf_svm_grid = gs1.fit(X_train, y_train)\n",
        "\n",
        "# Make predictions on the test set\n",
        "y_pred = clf_svm_grid.predict(X_test)\n",
        "\n",
        "# Print the best parameters found by GridSearchCV\n",
        "print(\"Best parameters:\", clf_svm_grid.best_params_)\n",
        "\n",
        "# Calculate and print the test accuracy\n",
        "test_accuracy = accuracy_score(y_test, y_pred)\n",
        "print(\"The test accuracy score of Support Vector Machine Classifier is\", test_accuracy)"
      ],
      "metadata": {
        "colab": {
          "base_uri": "https://localhost:8080/"
        },
        "id": "NSgw79Hje3lu",
        "outputId": "55e84c3b-1982-4c04-ea6d-dc94daa5bfc3"
      },
      "execution_count": 45,
      "outputs": [
        {
          "output_type": "stream",
          "name": "stdout",
          "text": [
            "Best parameters: {'C': 0.1, 'gamma': 0.1, 'kernel': 'linear'}\n",
            "The test accuracy score of Support Vector Machine Classifier is 0.891156462585034\n"
          ]
        }
      ]
    },
    {
      "cell_type": "markdown",
      "source": [
        "### Model Naive Bayes"
      ],
      "metadata": {
        "id": "stLQUA2kffdy"
      }
    },
    {
      "cell_type": "code",
      "source": [
        "# Initialize the Gaussian Naive Bayes classifier\n",
        "clf_nb = GaussianNB()\n",
        "\n",
        "# Define the grid of hyperparameters\n",
        "param_grid1 = {'var_smoothing': [1e-9, 1e-8, 1e-7, 1e-6],\n",
        "               'priors': [None, [0.1, 0.9], [0.5, 0.5]]\n",
        "}\n",
        "\n",
        "# Initialize GridSearchCV\n",
        "gs1 = GridSearchCV(\n",
        "    estimator=clf_nb,\n",
        "    param_grid=param_grid1,\n",
        "    cv=5,\n",
        "    scoring='accuracy'\n",
        ")\n",
        "\n",
        "# Train the classifier using GridSearchCV\n",
        "clf_nb_grid = gs1.fit(X_train, y_train)\n",
        "\n",
        "# Make predictions on the test set\n",
        "y_pred = clf_nb_grid.predict(X_test)\n",
        "\n",
        "# Print the best parameters found by GridSearchCV\n",
        "print(\"Best parameters:\", clf_nb_grid.best_params_)\n",
        "\n",
        "# Calculate and print the test accuracy\n",
        "test_accuracy = accuracy_score(y_test, y_pred)\n",
        "print(\"The test accuracy score of Gaussian Naive Bayes Classifier is\", test_accuracy)"
      ],
      "metadata": {
        "colab": {
          "base_uri": "https://localhost:8080/"
        },
        "id": "eo6uHODZfmmV",
        "outputId": "c5599333-5d9e-4869-e227-16b431233289"
      },
      "execution_count": 49,
      "outputs": [
        {
          "output_type": "stream",
          "name": "stdout",
          "text": [
            "Best parameters: {'priors': None, 'var_smoothing': 1e-09}\n",
            "The test accuracy score of Gaussian Naive Bayes Classifier is 0.8775510204081632\n"
          ]
        }
      ]
    },
    {
      "cell_type": "markdown",
      "source": [
        "### Model Decision Tree"
      ],
      "metadata": {
        "id": "4_QzftIngJgJ"
      }
    },
    {
      "cell_type": "code",
      "source": [
        "# Initialize the Decision Tree classifier\n",
        "clf_dt = DecisionTreeClassifier()\n",
        "\n",
        "# Define the grid of hyperparameters\n",
        "param_grid1 = {\n",
        "    'min_samples_leaf': [1, 10, 100],\n",
        "    'max_depth': [1, 10, 20, 30],\n",
        "    'criterion': ['gini', 'entropy']\n",
        "}\n",
        "\n",
        "# Initialize GridSearchCV\n",
        "gs1 = GridSearchCV(\n",
        "    estimator=clf_dt,\n",
        "    param_grid=param_grid1,\n",
        "    cv=5,\n",
        "    n_jobs=-1,\n",
        "    scoring='accuracy'\n",
        ")\n",
        "\n",
        "# Train the classifier using GridSearchCV\n",
        "clf_dt_grid = gs1.fit(X_train, y_train)\n",
        "\n",
        "# Make predictions on the test set\n",
        "y_pred = clf_dt_grid.predict(X_test)\n",
        "\n",
        "# Print the best parameters found by GridSearchCV\n",
        "print(\"Best parameters:\", clf_dt_grid.best_params_)\n",
        "\n",
        "# Calculate and print the test accuracy\n",
        "test_accuracy = accuracy_score(y_test, y_pred)\n",
        "print(\"The test accuracy score of Decision Tree Classifier is\", test_accuracy)"
      ],
      "metadata": {
        "colab": {
          "base_uri": "https://localhost:8080/"
        },
        "id": "d1ctXHK5gS8G",
        "outputId": "38427089-cd0b-45a7-b59f-c93388fa910f"
      },
      "execution_count": 53,
      "outputs": [
        {
          "output_type": "stream",
          "name": "stdout",
          "text": [
            "Best parameters: {'criterion': 'gini', 'max_depth': 1, 'min_samples_leaf': 1}\n",
            "The test accuracy score of Decision Tree Classifier is 0.891156462585034\n"
          ]
        }
      ]
    },
    {
      "cell_type": "markdown",
      "source": [
        "### Model Random Forest"
      ],
      "metadata": {
        "id": "59uNKU-sg3Gc"
      }
    },
    {
      "cell_type": "code",
      "source": [
        "# Initialize the Random Forest classifier\n",
        "clf_rf = RandomForestClassifier()\n",
        "\n",
        "# Define the grid of hyperparameters\n",
        "param_grid1 = {\n",
        "    'n_estimators': [100, 200, 300, 400],\n",
        "    'max_depth': [3, 5, 7, 9],\n",
        "    'criterion': ['gini', 'entropy']\n",
        "}\n",
        "\n",
        "# Initialize GridSearchCV\n",
        "gs1 = GridSearchCV(\n",
        "    estimator=clf_rf,\n",
        "    param_grid=param_grid1,\n",
        "    cv=5,\n",
        "    n_jobs=-1,\n",
        "    scoring='accuracy'\n",
        ")\n",
        "\n",
        "# Train the classifier using GridSearchCV\n",
        "clf_rf_grid = gs1.fit(X_train, y_train)\n",
        "\n",
        "# Make predictions on the test set\n",
        "y_pred = clf_rf_grid.predict(X_test)\n",
        "\n",
        "# Print the best parameters found by GridSearchCV\n",
        "print(\"Best parameters:\", clf_rf_grid.best_params_)\n",
        "\n",
        "# Calculate and print the test accuracy\n",
        "test_accuracy = accuracy_score(y_test, y_pred)\n",
        "print(\"The test accuracy score of Random Forest Classifier is\", test_accuracy)"
      ],
      "metadata": {
        "colab": {
          "base_uri": "https://localhost:8080/"
        },
        "id": "rH_WXXuQg-z-",
        "outputId": "7c1f0433-571a-4bf7-aadc-1331dd304576"
      },
      "execution_count": 57,
      "outputs": [
        {
          "output_type": "stream",
          "name": "stdout",
          "text": [
            "Best parameters: {'criterion': 'gini', 'max_depth': 7, 'n_estimators': 300}\n",
            "The test accuracy score of Random Forest Classifier is 0.8945578231292517\n"
          ]
        }
      ]
    },
    {
      "cell_type": "markdown",
      "source": [
        "### Model Gradient Boosting"
      ],
      "metadata": {
        "id": "BmOZaer1hfXE"
      }
    },
    {
      "cell_type": "code",
      "source": [
        "# Initialize the Gradient Boosting classifier\n",
        "clf_gb = GradientBoostingClassifier()\n",
        "\n",
        "# Define the grid of hyperparameters\n",
        "param_grid1 = {\n",
        "    'learning_rate': [0.01, 0.1, 0.2],\n",
        "    'n_estimators': [100, 200, 300],\n",
        "    'max_depth': [3, 4, 5],\n",
        "}\n",
        "\n",
        "# Initialize GridSearchCV\n",
        "gs1 = GridSearchCV(\n",
        "    estimator=clf_gb,\n",
        "    param_grid=param_grid1,\n",
        "    cv=5,\n",
        "    scoring='accuracy'\n",
        ")\n",
        "\n",
        "# Train the classifier using GridSearchCV\n",
        "clf_gb_grid = gs1.fit(X_train, y_train)\n",
        "\n",
        "# Make predictions on the test set\n",
        "y_pred = clf_gb_grid.predict(X_test)\n",
        "\n",
        "# Print the best parameters found by GridSearchCV\n",
        "print(\"Best parameters:\", clf_gb_grid.best_params_)\n",
        "\n",
        "# Calculate and print the test accuracy\n",
        "test_accuracy = accuracy_score(y_test, y_pred)\n",
        "print(\"The test accuracy score of Gradient Boosting Classifier is\", test_accuracy)"
      ],
      "metadata": {
        "colab": {
          "base_uri": "https://localhost:8080/"
        },
        "id": "w5AKjZG9hmXO",
        "outputId": "7d978111-a5ff-4d1a-d66d-3d884f92d0c8"
      },
      "execution_count": 61,
      "outputs": [
        {
          "output_type": "stream",
          "name": "stdout",
          "text": [
            "Best parameters: {'learning_rate': 0.01, 'max_depth': 5, 'n_estimators': 200}\n",
            "The test accuracy score of Gradient Boosting Classifier is 0.8809523809523809\n"
          ]
        }
      ]
    },
    {
      "cell_type": "markdown",
      "source": [
        "### Model MLP Classifier"
      ],
      "metadata": {
        "id": "pjQX2zwoiMc7"
      }
    },
    {
      "cell_type": "code",
      "source": [
        "# Initialize the MLP classifier\n",
        "clf_mlp = MLPClassifier(max_iter=1500)\n",
        "\n",
        "# Define the grid of hyperparameters\n",
        "param_grid1 = {\n",
        "    'hidden_layer_sizes': [(1,), (10,), (20,), (30,)],\n",
        "    'activation': ['tanh', 'relu'],\n",
        "    'solver': ['lbfgs', 'adam', 'sgd']\n",
        "}\n",
        "\n",
        "# Initialize GridSearchCV\n",
        "gs1 = GridSearchCV(\n",
        "    estimator=clf_mlp,\n",
        "    param_grid=param_grid1,\n",
        "    cv=5,\n",
        "    n_jobs=-1,\n",
        "    scoring='accuracy'\n",
        ")\n",
        "\n",
        "# Train the classifier using GridSearchCV\n",
        "clf_mlp_grid = gs1.fit(X_train, y_train)\n",
        "\n",
        "# Make predictions on the test set\n",
        "y_pred = clf_mlp_grid.predict(X_test)\n",
        "\n",
        "# Print the best parameters found by GridSearchCV\n",
        "print(\"Best parameters:\", clf_mlp_grid.best_params_)\n",
        "\n",
        "# Calculate and print the test accuracy\n",
        "test_accuracy = accuracy_score(y_test, y_pred)\n",
        "print(\"The test accuracy score of MLP Classifier is\", test_accuracy)"
      ],
      "metadata": {
        "colab": {
          "base_uri": "https://localhost:8080/"
        },
        "id": "_zxUSPAKiRcL",
        "outputId": "fa8a8ce4-a23c-4f72-9bcf-d0c3d900b368"
      },
      "execution_count": 65,
      "outputs": [
        {
          "output_type": "stream",
          "name": "stdout",
          "text": [
            "Best parameters: {'activation': 'tanh', 'hidden_layer_sizes': (1,), 'solver': 'adam'}\n",
            "The test accuracy score of MLP Classifier is 0.8979591836734694\n"
          ]
        }
      ]
    },
    {
      "cell_type": "markdown",
      "metadata": {
        "id": "70Nr7WhsxB7L"
      },
      "source": [
        "## Evaluation"
      ]
    },
    {
      "cell_type": "markdown",
      "source": [
        "### Logistc Regression"
      ],
      "metadata": {
        "id": "aEWWGcZgdc6T"
      }
    },
    {
      "cell_type": "code",
      "execution_count": 38,
      "metadata": {
        "colab": {
          "base_uri": "https://localhost:8080/"
        },
        "id": "GNlomX8YbiVV",
        "outputId": "8d8cedc7-1605-429a-92b4-8b1759d30a67"
      },
      "outputs": [
        {
          "output_type": "stream",
          "name": "stdout",
          "text": [
            "Confusion Matrix of Logistric Regression:\n",
            "[[259   3]\n",
            " [ 26   6]]\n"
          ]
        }
      ],
      "source": [
        "lr_cm = confusion_matrix(y_test, y_pred)\n",
        "print(\"Confusion Matrix of Logistric Regression:\")\n",
        "print(lr_cm)"
      ]
    },
    {
      "cell_type": "code",
      "source": [
        "plt.figure(figsize=(6, 4))\n",
        "sns.heatmap(lr_cm, annot=True, cmap='Spectral', fmt='g',\n",
        "            xticklabels=['Positive', 'Negative'],\n",
        "            yticklabels=['Positive', 'Negative'])\n",
        "plt.xlabel('Predicted labels')\n",
        "plt.ylabel('Actual labels')\n",
        "plt.title('Confusion Matrix of Logistic Regression')\n",
        "plt.show()"
      ],
      "metadata": {
        "colab": {
          "base_uri": "https://localhost:8080/",
          "height": 410
        },
        "id": "WSJS2TPsBham",
        "outputId": "5fbf87ee-a319-44db-edad-a2f69c541429"
      },
      "execution_count": 39,
      "outputs": [
        {
          "output_type": "display_data",
          "data": {
            "text/plain": [
              "<Figure size 600x400 with 2 Axes>"
            ],
            "image/png": "[encoded data removed]"
          },
          "metadata": {}
        }
      ]
    },
    {
      "cell_type": "code",
      "execution_count": 40,
      "metadata": {
        "colab": {
          "base_uri": "https://localhost:8080/"
        },
        "id": "_YgLr6vGPE7g",
        "outputId": "f8b379af-e933-4b9f-f0ef-4abbd0090040"
      },
      "outputs": [
        {
          "output_type": "stream",
          "name": "stdout",
          "text": [
            "The Classification Report of Logistic Regression\n",
            "              precision    recall  f1-score   support\n",
            "\n",
            "           0       0.91      0.99      0.95       262\n",
            "           1       0.67      0.19      0.29        32\n",
            "\n",
            "    accuracy                           0.90       294\n",
            "   macro avg       0.79      0.59      0.62       294\n",
            "weighted avg       0.88      0.90      0.88       294\n",
            "\n"
          ]
        }
      ],
      "source": [
        "print(\"The Classification Report of Logistic Regression\")\n",
        "print(classification_report(y_test, y_pred))"
      ]
    },
    {
      "cell_type": "markdown",
      "source": [
        "### K Nearest Neighbors"
      ],
      "metadata": {
        "id": "LG6fVsxreFjG"
      }
    },
    {
      "cell_type": "code",
      "source": [
        "knn_cm = confusion_matrix(y_test, y_pred)\n",
        "print(\"Confusion Matrix of K-Nearest Neighbors Classifier:\")\n",
        "print(knn_cm)"
      ],
      "metadata": {
        "colab": {
          "base_uri": "https://localhost:8080/"
        },
        "id": "fNY95qvveOc4",
        "outputId": "bb3b4ee0-309b-4600-f6b2-6b10d5e26192"
      },
      "execution_count": 42,
      "outputs": [
        {
          "output_type": "stream",
          "name": "stdout",
          "text": [
            "Confusion Matrix of K-Nearest Neighbors Classifier:\n",
            "[[261   1]\n",
            " [ 30   2]]\n"
          ]
        }
      ]
    },
    {
      "cell_type": "code",
      "source": [
        "plt.figure(figsize=(6, 4))\n",
        "sns.heatmap(knn_cm, annot=True, cmap='Spectral', fmt='g',\n",
        "            xticklabels=['Positive', 'Negative'],\n",
        "            yticklabels=['Positive', 'Negative'])\n",
        "plt.xlabel('Predicted labels')\n",
        "plt.ylabel('Actual labels')\n",
        "plt.title('Confusion Matrix of K Nearest Neighbors')\n",
        "plt.show()"
      ],
      "metadata": {
        "colab": {
          "base_uri": "https://localhost:8080/",
          "height": 410
        },
        "id": "GN5JnN4FeVGo",
        "outputId": "dac4cb8b-f6e7-487b-afe1-bc810991be66"
      },
      "execution_count": 43,
      "outputs": [
        {
          "output_type": "display_data",
          "data": {
            "text/plain": [
              "<Figure size 600x400 with 2 Axes>"
            ],
            "image/png": "[encoded data removed]"
          },
          "metadata": {}
        }
      ]
    },
    {
      "cell_type": "code",
      "source": [
        "print(\"The Classification Report of K-Nearest Neighbors Classifier\")\n",
        "print(classification_report(y_test, y_pred))"
      ],
      "metadata": {
        "colab": {
          "base_uri": "https://localhost:8080/"
        },
        "id": "la444n2helkl",
        "outputId": "e6e04792-19cb-412f-df91-cb6d817463c3"
      },
      "execution_count": 44,
      "outputs": [
        {
          "output_type": "stream",
          "name": "stdout",
          "text": [
            "The Classification Report of K-Nearest Neighbors Classifier\n",
            "              precision    recall  f1-score   support\n",
            "\n",
            "           0       0.90      1.00      0.94       262\n",
            "           1       0.67      0.06      0.11        32\n",
            "\n",
            "    accuracy                           0.89       294\n",
            "   macro avg       0.78      0.53      0.53       294\n",
            "weighted avg       0.87      0.89      0.85       294\n",
            "\n"
          ]
        }
      ]
    },
    {
      "cell_type": "markdown",
      "source": [
        "### SVM Classifier"
      ],
      "metadata": {
        "id": "l3KrxvPfe9ZW"
      }
    },
    {
      "cell_type": "code",
      "source": [
        "svm_cm = confusion_matrix(y_test, y_pred)\n",
        "print(\"Confusion Matrix of Support Vector Machine Classifier:\")\n",
        "print(svm_cm)"
      ],
      "metadata": {
        "colab": {
          "base_uri": "https://localhost:8080/"
        },
        "id": "hOD-rR8tfHEm",
        "outputId": "8a5ada6f-50d1-46c5-b801-36be8ba7404c"
      },
      "execution_count": 46,
      "outputs": [
        {
          "output_type": "stream",
          "name": "stdout",
          "text": [
            "Confusion Matrix of Support Vector Machine Classifier:\n",
            "[[262   0]\n",
            " [ 32   0]]\n"
          ]
        }
      ]
    },
    {
      "cell_type": "code",
      "source": [
        "plt.figure(figsize=(6, 4))\n",
        "sns.heatmap(svm_cm, annot=True, cmap='Spectral', fmt='g',\n",
        "            xticklabels=['Positive', 'Negative'],\n",
        "            yticklabels=['Positive', 'Negative'])\n",
        "plt.xlabel('Predicted labels')\n",
        "plt.ylabel('Actual labels')\n",
        "plt.title('Confusion Matrix of SVM Classifier')\n",
        "plt.show()"
      ],
      "metadata": {
        "colab": {
          "base_uri": "https://localhost:8080/",
          "height": 410
        },
        "id": "y14ZsFivfMC1",
        "outputId": "1f7bcc68-f63d-4b00-f7be-1e13545b6433"
      },
      "execution_count": 47,
      "outputs": [
        {
          "output_type": "display_data",
          "data": {
            "text/plain": [
              "<Figure size 600x400 with 2 Axes>"
            ],
            "image/png": "[encoded data removed]"
          },
          "metadata": {}
        }
      ]
    },
    {
      "cell_type": "code",
      "source": [
        "print(\"The Classification Report of Support Vector Machine Classifier\")\n",
        "print(classification_report(y_test, y_pred, zero_division=1))"
      ],
      "metadata": {
        "colab": {
          "base_uri": "https://localhost:8080/"
        },
        "id": "Jpj_lZNqfXJw",
        "outputId": "997a6e9f-431d-4451-eefb-ec6045c87ee0"
      },
      "execution_count": 48,
      "outputs": [
        {
          "output_type": "stream",
          "name": "stdout",
          "text": [
            "The Classification Report of Support Vector Machine Classifier\n",
            "              precision    recall  f1-score   support\n",
            "\n",
            "           0       0.89      1.00      0.94       262\n",
            "           1       1.00      0.00      0.00        32\n",
            "\n",
            "    accuracy                           0.89       294\n",
            "   macro avg       0.95      0.50      0.47       294\n",
            "weighted avg       0.90      0.89      0.84       294\n",
            "\n"
          ]
        }
      ]
    },
    {
      "cell_type": "markdown",
      "source": [
        "### Naive Bayes"
      ],
      "metadata": {
        "id": "2NcFEymRftwW"
      }
    },
    {
      "cell_type": "code",
      "source": [
        "nb_cm = confusion_matrix(y_test, y_pred)\n",
        "print(\"Confusion Matrix of Naives Bayes Classifier:\")\n",
        "print(nb_cm)"
      ],
      "metadata": {
        "colab": {
          "base_uri": "https://localhost:8080/"
        },
        "id": "xYxpc_Bzf1yd",
        "outputId": "d7c50521-a7d1-4cce-aeec-5497249ee55c"
      },
      "execution_count": 50,
      "outputs": [
        {
          "output_type": "stream",
          "name": "stdout",
          "text": [
            "Confusion Matrix of Naives Bayes Classifier:\n",
            "[[249  13]\n",
            " [ 23   9]]\n"
          ]
        }
      ]
    },
    {
      "cell_type": "code",
      "source": [
        "plt.figure(figsize=(6, 4))\n",
        "sns.heatmap(nb_cm, annot=True, cmap='Spectral', fmt='g',\n",
        "            xticklabels=['Positive', 'Negative'],\n",
        "            yticklabels=['Positive', 'Negative'])\n",
        "plt.xlabel('Predicted labels')\n",
        "plt.ylabel('Actual labels')\n",
        "plt.title('Confusion Matrix of Naive Bayes Classifier')\n",
        "plt.show()"
      ],
      "metadata": {
        "colab": {
          "base_uri": "https://localhost:8080/",
          "height": 410
        },
        "id": "bytF26VXf4ZZ",
        "outputId": "c02ca851-bba3-4c56-aa61-41c4154a274d"
      },
      "execution_count": 51,
      "outputs": [
        {
          "output_type": "display_data",
          "data": {
            "text/plain": [
              "<Figure size 600x400 with 2 Axes>"
            ],
            "image/png": "[encoded data removed]"
          },
          "metadata": {}
        }
      ]
    },
    {
      "cell_type": "code",
      "source": [
        "print (\"The Classification Report of Naives Bayes Classifier\")\n",
        "print(classification_report(y_test, y_pred))"
      ],
      "metadata": {
        "colab": {
          "base_uri": "https://localhost:8080/"
        },
        "id": "7Ifma0pef_HH",
        "outputId": "49bd9fa9-b8a2-4e7b-d433-aa9a93dd39a8"
      },
      "execution_count": 52,
      "outputs": [
        {
          "output_type": "stream",
          "name": "stdout",
          "text": [
            "The Classification Report of Naives Bayes Classifier\n",
            "              precision    recall  f1-score   support\n",
            "\n",
            "           0       0.92      0.95      0.93       262\n",
            "           1       0.41      0.28      0.33        32\n",
            "\n",
            "    accuracy                           0.88       294\n",
            "   macro avg       0.66      0.62      0.63       294\n",
            "weighted avg       0.86      0.88      0.87       294\n",
            "\n"
          ]
        }
      ]
    },
    {
      "cell_type": "markdown",
      "source": [
        "### Decision Tree"
      ],
      "metadata": {
        "id": "Ra0kla9ngYJ-"
      }
    },
    {
      "cell_type": "code",
      "source": [
        "dt_cm = confusion_matrix(y_test, y_pred)\n",
        "print(\"Confusion Matrix of Decision Tree Classifier:\")\n",
        "print(dt_cm)"
      ],
      "metadata": {
        "colab": {
          "base_uri": "https://localhost:8080/"
        },
        "id": "CGx1fO6qgb1J",
        "outputId": "c5fea58c-bbaf-4cdd-8319-b7516de6df2a"
      },
      "execution_count": 54,
      "outputs": [
        {
          "output_type": "stream",
          "name": "stdout",
          "text": [
            "Confusion Matrix of Decision Tree Classifier:\n",
            "[[262   0]\n",
            " [ 32   0]]\n"
          ]
        }
      ]
    },
    {
      "cell_type": "code",
      "source": [
        "plt.figure(figsize=(6, 4))\n",
        "sns.heatmap(dt_cm, annot=True, cmap='Spectral', fmt='g',\n",
        "            xticklabels=['Positive', 'Negative'],\n",
        "            yticklabels=['Positive', 'Negative'])\n",
        "plt.xlabel('Predicted labels')\n",
        "plt.ylabel('Actual labels')\n",
        "plt.title('Confusion Matrix of Decision Tree Classifier')\n",
        "plt.show()"
      ],
      "metadata": {
        "colab": {
          "base_uri": "https://localhost:8080/",
          "height": 410
        },
        "id": "cnywkIGjggD_",
        "outputId": "644c49dd-12be-4afe-a9d3-d79ee148a11e"
      },
      "execution_count": 55,
      "outputs": [
        {
          "output_type": "display_data",
          "data": {
            "text/plain": [
              "<Figure size 600x400 with 2 Axes>"
            ],
            "image/png": "[encoded data removed]"
          },
          "metadata": {}
        }
      ]
    },
    {
      "cell_type": "code",
      "source": [
        "print(\"The Classification Report of Decision Tree Classifier\")\n",
        "print(classification_report(y_test, y_pred, zero_division=1))"
      ],
      "metadata": {
        "colab": {
          "base_uri": "https://localhost:8080/"
        },
        "id": "-ipGsokdgwfQ",
        "outputId": "b5674988-62bb-4638-f16f-09761fcca799"
      },
      "execution_count": 56,
      "outputs": [
        {
          "output_type": "stream",
          "name": "stdout",
          "text": [
            "The Classification Report of Decision Tree Classifier\n",
            "              precision    recall  f1-score   support\n",
            "\n",
            "           0       0.89      1.00      0.94       262\n",
            "           1       1.00      0.00      0.00        32\n",
            "\n",
            "    accuracy                           0.89       294\n",
            "   macro avg       0.95      0.50      0.47       294\n",
            "weighted avg       0.90      0.89      0.84       294\n",
            "\n"
          ]
        }
      ]
    },
    {
      "cell_type": "markdown",
      "source": [
        "### Random Forest"
      ],
      "metadata": {
        "id": "z3dsNDcUhDi0"
      }
    },
    {
      "cell_type": "code",
      "source": [
        "rf_cm = confusion_matrix(y_test, y_pred)\n",
        "print(\"Confusion Matrix of Random Forest Classifier:\")\n",
        "print(rf_cm)"
      ],
      "metadata": {
        "colab": {
          "base_uri": "https://localhost:8080/"
        },
        "id": "zIow4S2mhOGV",
        "outputId": "cb8ee5ea-cb65-43be-ab31-4491ed769cce"
      },
      "execution_count": 58,
      "outputs": [
        {
          "output_type": "stream",
          "name": "stdout",
          "text": [
            "Confusion Matrix of Random Forest Classifier:\n",
            "[[262   0]\n",
            " [ 31   1]]\n"
          ]
        }
      ]
    },
    {
      "cell_type": "code",
      "source": [
        "plt.figure(figsize=(6, 4))\n",
        "sns.heatmap(rf_cm, annot=True, cmap='Spectral', fmt='g',\n",
        "            xticklabels=['Positive', 'Negative'],\n",
        "            yticklabels=['Positive', 'Negative'])\n",
        "plt.xlabel('Predicted labels')\n",
        "plt.ylabel('Actual labels')\n",
        "plt.title('Confusion Matrix of Random Forest Classifier')\n",
        "plt.show()"
      ],
      "metadata": {
        "colab": {
          "base_uri": "https://localhost:8080/",
          "height": 410
        },
        "id": "-TTvJkOghRLv",
        "outputId": "54bde2d9-0bd4-4b99-9baa-40782adf4938"
      },
      "execution_count": 59,
      "outputs": [
        {
          "output_type": "display_data",
          "data": {
            "text/plain": [
              "<Figure size 600x400 with 2 Axes>"
            ],
            "image/png": "[encoded data removed]"
          },
          "metadata": {}
        }
      ]
    },
    {
      "cell_type": "code",
      "source": [
        "print(\"The Classification Report of Random Forest Classifier\")\n",
        "print(classification_report(y_test, y_pred))"
      ],
      "metadata": {
        "colab": {
          "base_uri": "https://localhost:8080/"
        },
        "id": "Ey8MMRwChZqt",
        "outputId": "93500f68-9126-4aee-9f92-2840234be0ca"
      },
      "execution_count": 60,
      "outputs": [
        {
          "output_type": "stream",
          "name": "stdout",
          "text": [
            "The Classification Report of Random Forest Classifier\n",
            "              precision    recall  f1-score   support\n",
            "\n",
            "           0       0.89      1.00      0.94       262\n",
            "           1       1.00      0.03      0.06        32\n",
            "\n",
            "    accuracy                           0.89       294\n",
            "   macro avg       0.95      0.52      0.50       294\n",
            "weighted avg       0.91      0.89      0.85       294\n",
            "\n"
          ]
        }
      ]
    },
    {
      "cell_type": "markdown",
      "source": [
        "### Gradient Boosting"
      ],
      "metadata": {
        "id": "zlE2yMe_hq0b"
      }
    },
    {
      "cell_type": "code",
      "source": [
        "gb_cm = confusion_matrix(y_test, y_pred)\n",
        "print(\"Confusion Matrix of Gradient Boosting Classifier:\")\n",
        "print(gb_cm)"
      ],
      "metadata": {
        "colab": {
          "base_uri": "https://localhost:8080/"
        },
        "id": "itzURBsjh2uX",
        "outputId": "d8192126-2860-471d-a7b6-1e659a543a81"
      },
      "execution_count": 62,
      "outputs": [
        {
          "output_type": "stream",
          "name": "stdout",
          "text": [
            "Confusion Matrix of Gradient Boosting Classifier:\n",
            "[[258   4]\n",
            " [ 31   1]]\n"
          ]
        }
      ]
    },
    {
      "cell_type": "code",
      "source": [
        "plt.figure(figsize=(6, 4))\n",
        "sns.heatmap(gb_cm, annot=True, cmap='Spectral', fmt='g',\n",
        "            xticklabels=['Positive', 'Negative'],\n",
        "            yticklabels=['Positive', 'Negative'])\n",
        "plt.xlabel('Predicted labels')\n",
        "plt.ylabel('Actual labels')\n",
        "plt.title('Confusion Matrix of Gradient Boosting Classifier')\n",
        "plt.show()"
      ],
      "metadata": {
        "colab": {
          "base_uri": "https://localhost:8080/",
          "height": 410
        },
        "id": "D66H2uVrh5El",
        "outputId": "e2d9d78b-0bbf-40ac-cf48-cb7fdd323987"
      },
      "execution_count": 63,
      "outputs": [
        {
          "output_type": "display_data",
          "data": {
            "text/plain": [
              "<Figure size 600x400 with 2 Axes>"
            ],
            "image/png": "[encoded data removed]"
          },
          "metadata": {}
        }
      ]
    },
    {
      "cell_type": "code",
      "source": [
        "print(\"The Classification Report of Gradient Boosting Classifier\")\n",
        "print(classification_report(y_test, y_pred))"
      ],
      "metadata": {
        "colab": {
          "base_uri": "https://localhost:8080/"
        },
        "id": "kCzblgzth_oW",
        "outputId": "359a3eba-2b1a-4e34-915d-441c5ef2f7f9"
      },
      "execution_count": 64,
      "outputs": [
        {
          "output_type": "stream",
          "name": "stdout",
          "text": [
            "The Classification Report of Gradient Boosting Classifier\n",
            "              precision    recall  f1-score   support\n",
            "\n",
            "           0       0.89      0.98      0.94       262\n",
            "           1       0.20      0.03      0.05        32\n",
            "\n",
            "    accuracy                           0.88       294\n",
            "   macro avg       0.55      0.51      0.50       294\n",
            "weighted avg       0.82      0.88      0.84       294\n",
            "\n"
          ]
        }
      ]
    },
    {
      "cell_type": "markdown",
      "source": [
        "### MLP Classifier"
      ],
      "metadata": {
        "id": "Sk1q02S9iWRR"
      }
    },
    {
      "cell_type": "code",
      "source": [
        "mlp_cm = confusion_matrix(y_test, y_pred)\n",
        "print(\"Confusion Matrix of MLP Classifier:\")\n",
        "print(mlp_cm)"
      ],
      "metadata": {
        "colab": {
          "base_uri": "https://localhost:8080/"
        },
        "id": "ST7D9hbbiaqy",
        "outputId": "b6c1b9f4-4744-437b-befb-c6d7524b30a6"
      },
      "execution_count": 66,
      "outputs": [
        {
          "output_type": "stream",
          "name": "stdout",
          "text": [
            "Confusion Matrix of MLP Classifier:\n",
            "[[256   6]\n",
            " [ 24   8]]\n"
          ]
        }
      ]
    },
    {
      "cell_type": "code",
      "source": [
        "plt.figure(figsize=(6, 4))\n",
        "sns.heatmap(mlp_cm, annot=True, cmap='Spectral', fmt='g',\n",
        "            xticklabels=['Positive', 'Negative'],\n",
        "            yticklabels=['Positive', 'Negative'])\n",
        "plt.xlabel('Predicted labels')\n",
        "plt.ylabel('Actual labels')\n",
        "plt.title('Confusion Matrix of MLP Classifier')\n",
        "plt.show()"
      ],
      "metadata": {
        "colab": {
          "base_uri": "https://localhost:8080/",
          "height": 410
        },
        "id": "-YJ_wCDsieOo",
        "outputId": "aecf6fab-2e1c-4f35-c69f-ad9b39278b5b"
      },
      "execution_count": 67,
      "outputs": [
        {
          "output_type": "display_data",
          "data": {
            "text/plain": [
              "<Figure size 600x400 with 2 Axes>"
            ],
            "image/png": "[encoded data removed]"
          },
          "metadata": {}
        }
      ]
    },
    {
      "cell_type": "code",
      "source": [
        "print(\"The Classification Report of MLP Classifier\")\n",
        "print(classification_report(y_test, y_pred, zero_division=1))"
      ],
      "metadata": {
        "colab": {
          "base_uri": "https://localhost:8080/"
        },
        "id": "RfSVRPN4iic9",
        "outputId": "943daa47-309b-4fe9-e47e-d3f9c4940d74"
      },
      "execution_count": 68,
      "outputs": [
        {
          "output_type": "stream",
          "name": "stdout",
          "text": [
            "The Classification Report of MLP Classifier\n",
            "              precision    recall  f1-score   support\n",
            "\n",
            "           0       0.91      0.98      0.94       262\n",
            "           1       0.57      0.25      0.35        32\n",
            "\n",
            "    accuracy                           0.90       294\n",
            "   macro avg       0.74      0.61      0.65       294\n",
            "weighted avg       0.88      0.90      0.88       294\n",
            "\n"
          ]
        }
      ]
    },
    {
      "cell_type": "markdown",
      "source": [
        "## Deployment"
      ],
      "metadata": {
        "id": "BBefAZ4iGzji"
      }
    },
    {
      "cell_type": "code",
      "source": [
        "# Save the model with joblib\n",
        "joblib.dump(clf_lr_grid, 'logistic_regression_model.joblib')"
      ],
      "metadata": {
        "colab": {
          "base_uri": "https://localhost:8080/"
        },
        "id": "_AfaWl31Kk7m",
        "outputId": "c553a61c-7116-4922-afda-c24c3a447508"
      },
      "execution_count": 69,
      "outputs": [
        {
          "output_type": "execute_result",
          "data": {
            "text/plain": [
              "['logistic_regression_model.joblib']"
            ]
          },
          "metadata": {},
          "execution_count": 69
        }
      ]
    }
  ],
  "metadata": {
    "colab": {
      "provenance": []
    },
    "kernelspec": {
      "display_name": "ds",
      "language": "python",
      "name": "python3"
    },
    "language_info": {
      "name": "python",
      "version": "3.9.18"
    }
  },
  "nbformat": 4,
  "nbformat_minor": 0
}